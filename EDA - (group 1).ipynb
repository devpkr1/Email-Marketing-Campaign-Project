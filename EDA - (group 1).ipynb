{
 "cells": [
  {
   "cell_type": "markdown",
   "metadata": {},
   "source": [
    "# Email Marketting Campaign Success Prediction Project - P450"
   ]
  },
  {
   "cell_type": "markdown",
   "metadata": {},
   "source": [
    "## Objective\n",
    "\n",
    "The objective of this project is to predict whether a customer will open an email in an email marketing campaign. By building a classification model, the marketing team can identify high-potential customers, segment audiences, and tailor campaigns to optimize engagement. \n",
    "Predicting the open rate can help improve targeting, reduce marketing costs, and enhance overall campaign performance.\n"
   ]
  },
  {
   "cell_type": "markdown",
   "metadata": {},
   "source": [
    "## Exploratory Data Analysis (EDA)"
   ]
  },
  {
   "cell_type": "markdown",
   "metadata": {},
   "source": [
    "### Loading Required Libraries"
   ]
  },
  {
   "cell_type": "code",
   "execution_count": 1,
   "metadata": {},
   "outputs": [],
   "source": [
    "import pandas as pd\n",
    "import numpy as np\n",
    "import matplotlib.pyplot as plt\n",
    "import seaborn as sns\n",
    "from sklearn.impute import SimpleImputer\n",
    "from sklearn.model_selection import train_test_split\n",
    "from sklearn.preprocessing import MinMaxScaler\n",
    "from sklearn.utils import resample\n",
    "from imblearn.under_sampling import RandomUnderSampler\n",
    "from imblearn.over_sampling import SMOTE\n",
    "from statsmodels.stats.outliers_influence import variance_inflation_factor\n",
    "\n",
    "\n",
    "%matplotlib inline\n",
    "\n",
    "import warnings\n",
    "warnings.filterwarnings('ignore')"
   ]
  },
  {
   "cell_type": "markdown",
   "metadata": {},
   "source": [
    "### Loading Dataset"
   ]
  },
  {
   "cell_type": "code",
   "execution_count": 78,
   "metadata": {},
   "outputs": [
    {
     "data": {
      "text/html": [
       "<div>\n",
       "<style scoped>\n",
       "    .dataframe tbody tr th:only-of-type {\n",
       "        vertical-align: middle;\n",
       "    }\n",
       "\n",
       "    .dataframe tbody tr th {\n",
       "        vertical-align: top;\n",
       "    }\n",
       "\n",
       "    .dataframe thead th {\n",
       "        text-align: right;\n",
       "    }\n",
       "</style>\n",
       "<table border=\"1\" class=\"dataframe\">\n",
       "  <thead>\n",
       "    <tr style=\"text-align: right;\">\n",
       "      <th></th>\n",
       "      <th>Customer_Age</th>\n",
       "      <th>Emails_Opened</th>\n",
       "      <th>Emails_Clicked</th>\n",
       "      <th>Purchase_History</th>\n",
       "      <th>Time_Spent_On_Website</th>\n",
       "      <th>Days_Since_Last_Open</th>\n",
       "      <th>Customer_Engagement_Score</th>\n",
       "      <th>Opened_Previous_Emails</th>\n",
       "      <th>Clicked_Previous_Emails</th>\n",
       "      <th>Device_Type</th>\n",
       "    </tr>\n",
       "  </thead>\n",
       "  <tbody>\n",
       "    <tr>\n",
       "      <th>0</th>\n",
       "      <td>39</td>\n",
       "      <td>7</td>\n",
       "      <td>1</td>\n",
       "      <td>546.1</td>\n",
       "      <td>3.3</td>\n",
       "      <td>23</td>\n",
       "      <td>53.3</td>\n",
       "      <td>0</td>\n",
       "      <td>1</td>\n",
       "      <td>1</td>\n",
       "    </tr>\n",
       "    <tr>\n",
       "      <th>1</th>\n",
       "      <td>33</td>\n",
       "      <td>6</td>\n",
       "      <td>1</td>\n",
       "      <td>1069.8</td>\n",
       "      <td>4.9</td>\n",
       "      <td>23</td>\n",
       "      <td>60.5</td>\n",
       "      <td>1</td>\n",
       "      <td>0</td>\n",
       "      <td>1</td>\n",
       "    </tr>\n",
       "    <tr>\n",
       "      <th>2</th>\n",
       "      <td>41</td>\n",
       "      <td>5</td>\n",
       "      <td>1</td>\n",
       "      <td>1293.2</td>\n",
       "      <td>5.0</td>\n",
       "      <td>3</td>\n",
       "      <td>55.9</td>\n",
       "      <td>0</td>\n",
       "      <td>0</td>\n",
       "      <td>1</td>\n",
       "    </tr>\n",
       "    <tr>\n",
       "      <th>3</th>\n",
       "      <td>50</td>\n",
       "      <td>3</td>\n",
       "      <td>1</td>\n",
       "      <td>2443.8</td>\n",
       "      <td>5.9</td>\n",
       "      <td>25</td>\n",
       "      <td>61.8</td>\n",
       "      <td>0</td>\n",
       "      <td>1</td>\n",
       "      <td>0</td>\n",
       "    </tr>\n",
       "    <tr>\n",
       "      <th>4</th>\n",
       "      <td>32</td>\n",
       "      <td>6</td>\n",
       "      <td>0</td>\n",
       "      <td>1778.3</td>\n",
       "      <td>2.3</td>\n",
       "      <td>40</td>\n",
       "      <td>66.8</td>\n",
       "      <td>0</td>\n",
       "      <td>0</td>\n",
       "      <td>1</td>\n",
       "    </tr>\n",
       "  </tbody>\n",
       "</table>\n",
       "</div>"
      ],
      "text/plain": [
       "   Customer_Age  Emails_Opened  Emails_Clicked  Purchase_History  \\\n",
       "0            39              7               1             546.1   \n",
       "1            33              6               1            1069.8   \n",
       "2            41              5               1            1293.2   \n",
       "3            50              3               1            2443.8   \n",
       "4            32              6               0            1778.3   \n",
       "\n",
       "   Time_Spent_On_Website  Days_Since_Last_Open  Customer_Engagement_Score  \\\n",
       "0                    3.3                    23                       53.3   \n",
       "1                    4.9                    23                       60.5   \n",
       "2                    5.0                     3                       55.9   \n",
       "3                    5.9                    25                       61.8   \n",
       "4                    2.3                    40                       66.8   \n",
       "\n",
       "   Opened_Previous_Emails  Clicked_Previous_Emails  Device_Type  \n",
       "0                       0                        1            1  \n",
       "1                       1                        0            1  \n",
       "2                       0                        0            1  \n",
       "3                       0                        1            0  \n",
       "4                       0                        0            1  "
      ]
     },
     "execution_count": 78,
     "metadata": {},
     "output_type": "execute_result"
    }
   ],
   "source": [
    "df = pd.read_excel(r\"Email_Marketing_Campaign_Dataset_Rounded.xlsx\")\n",
    "df.head()"
   ]
  },
  {
   "cell_type": "markdown",
   "metadata": {},
   "source": [
    "### Checking Inconsistency"
   ]
  },
  {
   "cell_type": "code",
   "execution_count": 3,
   "metadata": {},
   "outputs": [
    {
     "name": "stdout",
     "output_type": "stream",
     "text": [
      "<class 'pandas.core.frame.DataFrame'>\n",
      "RangeIndex: 1000 entries, 0 to 999\n",
      "Data columns (total 10 columns):\n",
      " #   Column                     Non-Null Count  Dtype  \n",
      "---  ------                     --------------  -----  \n",
      " 0   Customer_Age               1000 non-null   int64  \n",
      " 1   Emails_Opened              1000 non-null   int64  \n",
      " 2   Emails_Clicked             1000 non-null   int64  \n",
      " 3   Purchase_History           1000 non-null   float64\n",
      " 4   Time_Spent_On_Website      1000 non-null   float64\n",
      " 5   Days_Since_Last_Open       1000 non-null   int64  \n",
      " 6   Customer_Engagement_Score  1000 non-null   float64\n",
      " 7   Opened_Previous_Emails     1000 non-null   int64  \n",
      " 8   Clicked_Previous_Emails    1000 non-null   int64  \n",
      " 9   Device_Type                1000 non-null   int64  \n",
      "dtypes: float64(3), int64(7)\n",
      "memory usage: 78.3 KB\n"
     ]
    }
   ],
   "source": [
    "#Checking consistency\n",
    "df.info()"
   ]
  },
  {
   "cell_type": "markdown",
   "metadata": {},
   "source": [
    "#### Dataset Overview :\n",
    "\n",
    "- **Total Entries**: 1000 rows, representing individual customers.\n",
    "- **Total Columns**: 10 columns, with varying data types (integers and floats).\n",
    "\n",
    "#### Column Breakdown:\n",
    "1. **Customer_Age**:  \n",
    "   - Data Type: `int64`  \n",
    "   - Description: Age of the customer in years, generated with a mean of 35 and a standard deviation of 10.\n",
    "   \n",
    "2. **Emails_Opened**:  \n",
    "   - Data Type: `int64`  \n",
    "   - Description: Number of emails the customer has opened in the past, with an average of 5 and a standard deviation of 2.\n",
    "\n",
    "3. **Emails_Clicked**:  \n",
    "   - Data Type: `int64`  \n",
    "   - Description: Number of emails the customer clicked on after opening them, with an average of 2 and a standard deviation of 1.\n",
    "\n",
    "4. **Purchase_History**:  \n",
    "   - Data Type: `float64`  \n",
    "   - Description: Total amount of money (in dollars) the customer has spent in previous purchases. The data is normally distributed with a mean of $1500 and a standard deviation of $500.\n",
    "\n",
    "5. **Time_Spent_On_Website**:  \n",
    "   - Data Type: `float64`  \n",
    "   - Description: Average time (in minutes) the customer spends on the website after receiving marketing emails, with an average of 5 minutes and a standard deviation of 2.\n",
    "\n",
    "6. **Days_Since_Last_Open**:  \n",
    "   - Data Type: `int64`  \n",
    "   - Description: Number of days since the customer last opened an email, with an average of 30 days and a standard deviation of 15.\n",
    "\n",
    "7. **Customer_Engagement_Score**:  \n",
    "   - Data Type: `float64`  \n",
    "   - Description: A score reflecting overall customer engagement, calculated based on interactions with emails and website activity. It’s normally distributed with an average score of 70 and a standard deviation of 15.\n",
    "\n",
    "8. **Opened_Previous_Emails**:  \n",
    "   - Data Type: `int64`  \n",
    "   - Description: Whether the customer has opened any previous emails (1 for opened, 0 for not opened).\n",
    "\n",
    "9. **Clicked_Previous_Emails**:  \n",
    "   - Data Type: `int64`  \n",
    "   - Description: Whether the customer has clicked on links in previous emails (1 for clicked, 0 for not clicked).\n",
    "\n",
    "10. **Device_Type**:  \n",
    "    - Data Type: `int64`  \n",
    "    - Description: The type of device used by the customer to open the email. 1 for mobile and 0 for desktop.\n",
    "\n",
    "#### Data Characteristics:\n",
    "- **Data Types**: The dataset includes both integer (`int64`) and floating-point (`float64`) data types, indicating numeric values across all features.\n",
    "- **No Missing Values**: All columns have complete data (non-null count equals total entries)."
   ]
  },
  {
   "cell_type": "markdown",
   "metadata": {},
   "source": [
    "### Descriptive Analysis of Data"
   ]
  },
  {
   "cell_type": "code",
   "execution_count": 4,
   "metadata": {},
   "outputs": [
    {
     "data": {
      "text/html": [
       "<div>\n",
       "<style scoped>\n",
       "    .dataframe tbody tr th:only-of-type {\n",
       "        vertical-align: middle;\n",
       "    }\n",
       "\n",
       "    .dataframe tbody tr th {\n",
       "        vertical-align: top;\n",
       "    }\n",
       "\n",
       "    .dataframe thead th {\n",
       "        text-align: right;\n",
       "    }\n",
       "</style>\n",
       "<table border=\"1\" class=\"dataframe\">\n",
       "  <thead>\n",
       "    <tr style=\"text-align: right;\">\n",
       "      <th></th>\n",
       "      <th>Customer_Age</th>\n",
       "      <th>Emails_Opened</th>\n",
       "      <th>Emails_Clicked</th>\n",
       "      <th>Purchase_History</th>\n",
       "      <th>Time_Spent_On_Website</th>\n",
       "      <th>Days_Since_Last_Open</th>\n",
       "      <th>Customer_Engagement_Score</th>\n",
       "      <th>Opened_Previous_Emails</th>\n",
       "      <th>Clicked_Previous_Emails</th>\n",
       "      <th>Device_Type</th>\n",
       "    </tr>\n",
       "  </thead>\n",
       "  <tbody>\n",
       "    <tr>\n",
       "      <th>count</th>\n",
       "      <td>1000.000000</td>\n",
       "      <td>1000.000000</td>\n",
       "      <td>1000.000000</td>\n",
       "      <td>1000.00000</td>\n",
       "      <td>1000.000000</td>\n",
       "      <td>1000.000000</td>\n",
       "      <td>1000.000000</td>\n",
       "      <td>1000.000000</td>\n",
       "      <td>1000.000000</td>\n",
       "      <td>1000.000000</td>\n",
       "    </tr>\n",
       "    <tr>\n",
       "      <th>mean</th>\n",
       "      <td>34.674000</td>\n",
       "      <td>4.654000</td>\n",
       "      <td>1.515000</td>\n",
       "      <td>1490.63990</td>\n",
       "      <td>4.901600</td>\n",
       "      <td>28.950000</td>\n",
       "      <td>69.578100</td>\n",
       "      <td>0.513000</td>\n",
       "      <td>0.518000</td>\n",
       "      <td>0.517000</td>\n",
       "    </tr>\n",
       "    <tr>\n",
       "      <th>std</th>\n",
       "      <td>9.797741</td>\n",
       "      <td>2.008561</td>\n",
       "      <td>0.966804</td>\n",
       "      <td>513.56673</td>\n",
       "      <td>1.985719</td>\n",
       "      <td>14.797448</td>\n",
       "      <td>15.375871</td>\n",
       "      <td>0.500081</td>\n",
       "      <td>0.499926</td>\n",
       "      <td>0.499961</td>\n",
       "    </tr>\n",
       "    <tr>\n",
       "      <th>min</th>\n",
       "      <td>2.000000</td>\n",
       "      <td>0.000000</td>\n",
       "      <td>0.000000</td>\n",
       "      <td>35.30000</td>\n",
       "      <td>-1.400000</td>\n",
       "      <td>0.000000</td>\n",
       "      <td>29.300000</td>\n",
       "      <td>0.000000</td>\n",
       "      <td>0.000000</td>\n",
       "      <td>0.000000</td>\n",
       "    </tr>\n",
       "    <tr>\n",
       "      <th>25%</th>\n",
       "      <td>28.000000</td>\n",
       "      <td>3.000000</td>\n",
       "      <td>1.000000</td>\n",
       "      <td>1131.27500</td>\n",
       "      <td>3.600000</td>\n",
       "      <td>19.000000</td>\n",
       "      <td>58.700000</td>\n",
       "      <td>0.000000</td>\n",
       "      <td>0.000000</td>\n",
       "      <td>0.000000</td>\n",
       "    </tr>\n",
       "    <tr>\n",
       "      <th>50%</th>\n",
       "      <td>35.000000</td>\n",
       "      <td>5.000000</td>\n",
       "      <td>1.500000</td>\n",
       "      <td>1500.05000</td>\n",
       "      <td>5.000000</td>\n",
       "      <td>29.000000</td>\n",
       "      <td>69.150000</td>\n",
       "      <td>1.000000</td>\n",
       "      <td>1.000000</td>\n",
       "      <td>1.000000</td>\n",
       "    </tr>\n",
       "    <tr>\n",
       "      <th>75%</th>\n",
       "      <td>41.000000</td>\n",
       "      <td>6.000000</td>\n",
       "      <td>2.000000</td>\n",
       "      <td>1833.47500</td>\n",
       "      <td>6.300000</td>\n",
       "      <td>39.000000</td>\n",
       "      <td>80.500000</td>\n",
       "      <td>1.000000</td>\n",
       "      <td>1.000000</td>\n",
       "      <td>1.000000</td>\n",
       "    </tr>\n",
       "    <tr>\n",
       "      <th>max</th>\n",
       "      <td>73.000000</td>\n",
       "      <td>11.000000</td>\n",
       "      <td>5.000000</td>\n",
       "      <td>3121.50000</td>\n",
       "      <td>11.200000</td>\n",
       "      <td>76.000000</td>\n",
       "      <td>122.900000</td>\n",
       "      <td>1.000000</td>\n",
       "      <td>1.000000</td>\n",
       "      <td>1.000000</td>\n",
       "    </tr>\n",
       "  </tbody>\n",
       "</table>\n",
       "</div>"
      ],
      "text/plain": [
       "       Customer_Age  Emails_Opened  Emails_Clicked  Purchase_History  \\\n",
       "count   1000.000000    1000.000000     1000.000000        1000.00000   \n",
       "mean      34.674000       4.654000        1.515000        1490.63990   \n",
       "std        9.797741       2.008561        0.966804         513.56673   \n",
       "min        2.000000       0.000000        0.000000          35.30000   \n",
       "25%       28.000000       3.000000        1.000000        1131.27500   \n",
       "50%       35.000000       5.000000        1.500000        1500.05000   \n",
       "75%       41.000000       6.000000        2.000000        1833.47500   \n",
       "max       73.000000      11.000000        5.000000        3121.50000   \n",
       "\n",
       "       Time_Spent_On_Website  Days_Since_Last_Open  Customer_Engagement_Score  \\\n",
       "count            1000.000000           1000.000000                1000.000000   \n",
       "mean                4.901600             28.950000                  69.578100   \n",
       "std                 1.985719             14.797448                  15.375871   \n",
       "min                -1.400000              0.000000                  29.300000   \n",
       "25%                 3.600000             19.000000                  58.700000   \n",
       "50%                 5.000000             29.000000                  69.150000   \n",
       "75%                 6.300000             39.000000                  80.500000   \n",
       "max                11.200000             76.000000                 122.900000   \n",
       "\n",
       "       Opened_Previous_Emails  Clicked_Previous_Emails  Device_Type  \n",
       "count             1000.000000              1000.000000  1000.000000  \n",
       "mean                 0.513000                 0.518000     0.517000  \n",
       "std                  0.500081                 0.499926     0.499961  \n",
       "min                  0.000000                 0.000000     0.000000  \n",
       "25%                  0.000000                 0.000000     0.000000  \n",
       "50%                  1.000000                 1.000000     1.000000  \n",
       "75%                  1.000000                 1.000000     1.000000  \n",
       "max                  1.000000                 1.000000     1.000000  "
      ]
     },
     "execution_count": 4,
     "metadata": {},
     "output_type": "execute_result"
    }
   ],
   "source": [
    "# Descriptive analysis of data using describe mehtod\n",
    "df.describe()"
   ]
  },
  {
   "cell_type": "markdown",
   "metadata": {},
   "source": [
    "#### Key Observations:\n",
    "- **Customer_Age** ranges from 2 to 73 years, with an average of 34.67 years.\n",
    "- **Emails_Opened** has a mean of 4.65, with a maximum of 11, indicating moderate engagement.\n",
    "- **Purchase_History** has significant variation, with values ranging from 35.30 to 3121.50.\n",
    "- **Time_Spent_On_Website** has an outlier with a negative value, which should be addressed during data cleaning.\n",
    "- Binary variables like **Opened_Previous_Emails** and **Clicked_Previous_Emails** are fairly balanced, with means around 0.51 and 0.52 respectively.\n"
   ]
  },
  {
   "cell_type": "markdown",
   "metadata": {},
   "source": [
    "### Data Visualisation"
   ]
  },
  {
   "cell_type": "markdown",
   "metadata": {},
   "source": [
    "#### Setting DPI for all visualizations"
   ]
  },
  {
   "cell_type": "code",
   "execution_count": 5,
   "metadata": {},
   "outputs": [
    {
     "data": {
      "text/plain": [
       "<Figure size 2560x1920 with 0 Axes>"
      ]
     },
     "execution_count": 5,
     "metadata": {},
     "output_type": "execute_result"
    }
   ],
   "source": [
    "plt.figure(dpi= 400)"
   ]
  },
  {
   "cell_type": "markdown",
   "metadata": {},
   "source": [
    "#### Data Distribution "
   ]
  },
  {
   "cell_type": "code",
   "execution_count": 6,
   "metadata": {},
   "outputs": [
    {
     "data": {
      "text/plain": [
       "<Figure size 2560x1920 with 0 Axes>"
      ]
     },
     "metadata": {},
     "output_type": "display_data"
    },
    {
     "data": {
      "image/png": "[encoded data removed]",
      "text/plain": [
       "<Figure size 2100x800 with 10 Axes>"
      ]
     },
     "metadata": {},
     "output_type": "display_data"
    }
   ],
   "source": [
    "import matplotlib.pyplot as plt\n",
    "import seaborn as sns\n",
    "\n",
    "# Create a figure with 2 rows and 5 columns of subplots\n",
    "fig, axes = plt.subplots(2, 5, figsize=(21, 8))\n",
    "i = 0\n",
    "j = 0\n",
    "\n",
    "# Iterate over the axes objects and create a distplot for each\n",
    "for col in df.columns:\n",
    "    sns.distplot(df[col], ax=axes[i, j], kde=True)  \n",
    "    axes[i, j].set_title(f\"Distribution plot for {col}\")\n",
    "    j += 1\n",
    "    if j == 5:\n",
    "        i += 1\n",
    "        j = 0\n",
    "\n",
    "plt.tight_layout()\n",
    "plt.show()"
   ]
  },
  {
   "cell_type": "markdown",
   "metadata": {},
   "source": [
    "Here’s a brief summary of the insights:\n",
    "\n",
    "1. **Customer Age**: Normally distributed around 40 years, with most customers aged 20-60.\n",
    "2. **Emails Opened**: Right-skewed, with most opening around 5 emails. Few open more than 10.\n",
    "3. **Emails Clicked**: Peaks at 0, 2, and 4 clicks; many users don’t click any emails.\n",
    "4. **Purchase History**: Normally distributed, most customers have a score between 1000 and 2000.\n",
    "5. **Time Spent on Website**: Near-normal distribution, centered around 5-6 units of time.\n",
    "6. **Days Since Last Open**: Slight right-skew, most customers opened emails in the past 20-30 days.\n",
    "7. **Engagement Score**: Normally distributed, centered between 40-80.\n",
    "8. **Opened/Clicked Previous Emails**: Binary, evenly split between users who did or didn’t open/click.\n",
    "9. **Device Type**: Roughly equal distribution between two device types."
   ]
  },
  {
   "cell_type": "markdown",
   "metadata": {},
   "source": [
    "#### Correlation Heatmap"
   ]
  },
  {
   "cell_type": "code",
   "execution_count": 7,
   "metadata": {},
   "outputs": [
    {
     "data": {
      "image/png": "[encoded data removed]",
      "text/plain": [
       "<Figure size 1000x400 with 2 Axes>"
      ]
     },
     "metadata": {},
     "output_type": "display_data"
    }
   ],
   "source": [
    "plt.figure(figsize= (10,4))\n",
    "sns.heatmap(df.corr(), cmap=\"coolwarm\" , annot= True, fmt= \".2f\")\n",
    "plt.title(\"Correlation Heatmap for variables\")\n",
    "plt.show()"
   ]
  },
  {
   "cell_type": "markdown",
   "metadata": {},
   "source": [
    "Here are the key insights from the correlation heatmap:\n",
    "\n",
    "1. **Weak Correlations Overall**: The variables show very weak correlations with each other, as most correlation values are close to 0.\n",
    "   \n",
    "2. **Purchase History & Time Spent on Website**: There is a slight positive correlation (0.22) between **Purchase History** and **Time Spent on Website**, suggesting that customers who spend more time on the website tend to have a higher purchase history.\n",
    "\n",
    "3. **Customer Age & Opened Previous Emails**: There is a small positive correlation (0.05) between **Customer Age** and **Opened Previous Emails**, meaning older customers are slightly more likely to have opened previous emails.\n",
    "\n",
    "4. **Device Type & Other Variables**: There is little to no correlation between **Device Type** and the other variables, indicating that device choice does not significantly impact other behaviors like opening or clicking emails.\n",
    "\n",
    "5. **Opened and Clicked Previous Emails**: As expected, there's a moderate positive correlation (0.44) between **Opened Previous Emails** and **Clicked Previous Emails**, indicating that customers who opened emails before are more likely to have clicked on them.\n",
    "\n",
    "Overall, the variables in the dataset have weak correlations, suggesting independent behaviors among the customers."
   ]
  },
  {
   "cell_type": "markdown",
   "metadata": {},
   "source": [
    "### Data Preprocessing"
   ]
  },
  {
   "cell_type": "markdown",
   "metadata": {},
   "source": [
    "#### Checking Duplicated value"
   ]
  },
  {
   "cell_type": "code",
   "execution_count": 8,
   "metadata": {},
   "outputs": [
    {
     "data": {
      "text/html": [
       "<div>\n",
       "<style scoped>\n",
       "    .dataframe tbody tr th:only-of-type {\n",
       "        vertical-align: middle;\n",
       "    }\n",
       "\n",
       "    .dataframe tbody tr th {\n",
       "        vertical-align: top;\n",
       "    }\n",
       "\n",
       "    .dataframe thead th {\n",
       "        text-align: right;\n",
       "    }\n",
       "</style>\n",
       "<table border=\"1\" class=\"dataframe\">\n",
       "  <thead>\n",
       "    <tr style=\"text-align: right;\">\n",
       "      <th></th>\n",
       "      <th>Customer_Age</th>\n",
       "      <th>Emails_Opened</th>\n",
       "      <th>Emails_Clicked</th>\n",
       "      <th>Purchase_History</th>\n",
       "      <th>Time_Spent_On_Website</th>\n",
       "      <th>Days_Since_Last_Open</th>\n",
       "      <th>Customer_Engagement_Score</th>\n",
       "      <th>Opened_Previous_Emails</th>\n",
       "      <th>Clicked_Previous_Emails</th>\n",
       "      <th>Device_Type</th>\n",
       "    </tr>\n",
       "  </thead>\n",
       "  <tbody>\n",
       "  </tbody>\n",
       "</table>\n",
       "</div>"
      ],
      "text/plain": [
       "Empty DataFrame\n",
       "Columns: [Customer_Age, Emails_Opened, Emails_Clicked, Purchase_History, Time_Spent_On_Website, Days_Since_Last_Open, Customer_Engagement_Score, Opened_Previous_Emails, Clicked_Previous_Emails, Device_Type]\n",
       "Index: []"
      ]
     },
     "execution_count": 8,
     "metadata": {},
     "output_type": "execute_result"
    }
   ],
   "source": [
    "df[df.duplicated()]"
   ]
  },
  {
   "cell_type": "markdown",
   "metadata": {},
   "source": [
    "- No Duplicated data is present in the dataset"
   ]
  },
  {
   "cell_type": "markdown",
   "metadata": {},
   "source": [
    "#### Outliers Detection"
   ]
  },
  {
   "cell_type": "code",
   "execution_count": 79,
   "metadata": {},
   "outputs": [
    {
     "name": "stdout",
     "output_type": "stream",
     "text": [
      "Percentage of outliers in each column:\n"
     ]
    },
    {
     "data": {
      "text/plain": [
       "{'Customer_Age': 0.8,\n",
       " 'Emails_Opened': 0.2,\n",
       " 'Emails_Clicked': 1.9,\n",
       " 'Purchase_History': 0.5,\n",
       " 'Time_Spent_On_Website': 1.2,\n",
       " 'Days_Since_Last_Open': 0.6,\n",
       " 'Customer_Engagement_Score': 0.2,\n",
       " 'Opened_Previous_Emails': 0.0,\n",
       " 'Clicked_Previous_Emails': 0.0,\n",
       " 'Device_Type': 0.0}"
      ]
     },
     "execution_count": 79,
     "metadata": {},
     "output_type": "execute_result"
    }
   ],
   "source": [
    "import pandas as pd\n",
    "\n",
    "# Define a function to detect the percentage of outliers using the IQR method\n",
    "def detect_outliers_percentage(df):\n",
    "    outliers_percentage = {}  # Dictionary to store percentage of outliers for each column\n",
    "\n",
    "    # Loop through each numeric column in the DataFrame\n",
    "    for col in df.select_dtypes(include=['float64', 'int64']).columns:\n",
    "        Q1 = df[col].quantile(0.25)\n",
    "        Q3 = df[col].quantile(0.75)\n",
    "        IQR = Q3 - Q1\n",
    "\n",
    "        # Define bounds for outliers\n",
    "        lower_bound = Q1 - 1.5 * IQR\n",
    "        upper_bound = Q3 + 1.5 * IQR\n",
    "\n",
    "        # Identify outliers in the current column\n",
    "        outliers_in_col = df[(df[col] < lower_bound) | (df[col] > upper_bound)]\n",
    "\n",
    "        # Calculate the percentage of outliers in the column\n",
    "        percentage = (len(outliers_in_col) / len(df)) * 100\n",
    "\n",
    "        # Store the percentage in the dictionary\n",
    "        outliers_percentage[col] = percentage\n",
    "\n",
    "    return outliers_percentage\n",
    "\n",
    "# Call the function to get the percentage of outliers in each column\n",
    "outliers_percentage = detect_outliers_percentage(df)\n",
    "\n",
    "print(\"Percentage of outliers in each column:\")\n",
    "outliers_percentage"
   ]
  },
  {
   "cell_type": "markdown",
   "metadata": {},
   "source": [
    "#### Detecting anomalies in Columns"
   ]
  },
  {
   "cell_type": "code",
   "execution_count": 80,
   "metadata": {},
   "outputs": [
    {
     "name": "stdout",
     "output_type": "stream",
     "text": [
      "Unique values in Customer_Age: [39 33 41 50 32 42 30 40 37 15 17 29 24 38 25 20 49 35 36 23 28 53 34 43\n",
      " 22 21 31 27 45 44 26 48  8 59 46 56 19 18 62 73 58 16 14 52 47  2 51 55\n",
      " 13 54 11 65 10 12 57 60 61] \n",
      "\n",
      "Unique values in Emails_Opened: [ 7  6  5  3  9  8  4  2  1  0 10 11] \n",
      "\n",
      "Unique values in Emails_Clicked: [1 0 2 3 4 5] \n",
      "\n",
      "Unique values in Time_Spent_On_Website: [ 3.3  4.9  5.   5.9  2.3  6.2 -0.4  3.7  4.   6.3  2.2  3.   5.4  4.8\n",
      "  3.8  6.4  9.3  1.3  6.6  3.6  4.4  3.4  4.5  8.2  6.7  2.7 -0.7  6.9\n",
      "  6.   4.6  6.5  1.8  5.6  4.2 10.6  5.8  3.5  7.9  3.1  2.6  7.1  6.1\n",
      "  1.9  4.7  4.1  5.2  4.3  1.   8.4  1.2  7.6  7.3  2.8  7.8  7.5  2.9\n",
      "  5.1  2.   7.7  6.8  5.5  8.1  8.3  3.2  8.6  5.7 -0.3  7.   9.7  0.1\n",
      "  0.2  7.2 -1.   3.9  8.7  1.4  7.4  5.3  9.4  9.2  8.   2.4  1.5  1.7\n",
      "  0.9  8.9  0.3  9.1  2.1  0.   1.1  0.6  0.5  0.7  2.5  8.5 -0.8  9.8\n",
      " -1.3  0.4 -1.4  1.6 10.5  0.8 -0.2 10.1 11.2] \n",
      "\n",
      "Unique values in Days_Since_Last_Open: [23  3 25 40 10 45 37 18 27 53 41 30 26 31 22  0 60 32 35 29  6 64 11 14\n",
      " 49 48 38 65 62 19 54  4 17 42 46 13 24  9 34 12 39 33 52 15 44  2 55 28\n",
      " 43 36 68  8 21 20 16 73 57 47 56 74 61  7  5 50  1 59 67 58 51 72 76 70\n",
      " 63] \n",
      "\n"
     ]
    }
   ],
   "source": [
    "# Checking unique values in each columns which have outliers\n",
    "\n",
    "col = [\"Customer_Age\",\"Emails_Opened\", \"Emails_Clicked\", \"Time_Spent_On_Website\", \"Days_Since_Last_Open\"]\n",
    "\n",
    "for i in col:\n",
    "    print(f\"Unique values in {i}: {df[i].unique()} \\n\")"
   ]
  },
  {
   "cell_type": "markdown",
   "metadata": {},
   "source": [
    "**Key Notes :-**\n",
    "- There might be an anomaly in `Customer_Age` since 2 years old seems unlikely for an email customer.\n",
    "- `Time_Spent_On_Website` Column has several negative values which are not acceptable because its a time value, its clear that there is a problem with negative sign ."
   ]
  },
  {
   "cell_type": "markdown",
   "metadata": {},
   "source": [
    "#### Removing Anomolies in `Time_Spent_On_Website` column"
   ]
  },
  {
   "cell_type": "code",
   "execution_count": 81,
   "metadata": {},
   "outputs": [],
   "source": [
    "# Fixing anomalies: negative 'Time_Spent_On_Website' to NaN for further handling\n",
    "df['Time_Spent_On_Website'] = df['Time_Spent_On_Website'].apply(lambda x: x if x >= 0 else None)\n",
    "\n",
    "# Fill the resulting NaN values with the mean of the respective columns\n",
    "df['Time_Spent_On_Website'].fillna(df['Time_Spent_On_Website'].mean(), inplace=True)"
   ]
  },
  {
   "cell_type": "markdown",
   "metadata": {},
   "source": [
    "#### Removing Outliers"
   ]
  },
  {
   "cell_type": "code",
   "execution_count": 82,
   "metadata": {},
   "outputs": [
    {
     "name": "stdout",
     "output_type": "stream",
     "text": [
      "DataFrame after removing outliers:\n"
     ]
    },
    {
     "data": {
      "text/html": [
       "<div>\n",
       "<style scoped>\n",
       "    .dataframe tbody tr th:only-of-type {\n",
       "        vertical-align: middle;\n",
       "    }\n",
       "\n",
       "    .dataframe tbody tr th {\n",
       "        vertical-align: top;\n",
       "    }\n",
       "\n",
       "    .dataframe thead th {\n",
       "        text-align: right;\n",
       "    }\n",
       "</style>\n",
       "<table border=\"1\" class=\"dataframe\">\n",
       "  <thead>\n",
       "    <tr style=\"text-align: right;\">\n",
       "      <th></th>\n",
       "      <th>Customer_Age</th>\n",
       "      <th>Emails_Opened</th>\n",
       "      <th>Emails_Clicked</th>\n",
       "      <th>Purchase_History</th>\n",
       "      <th>Time_Spent_On_Website</th>\n",
       "      <th>Days_Since_Last_Open</th>\n",
       "      <th>Customer_Engagement_Score</th>\n",
       "      <th>Opened_Previous_Emails</th>\n",
       "      <th>Clicked_Previous_Emails</th>\n",
       "      <th>Device_Type</th>\n",
       "    </tr>\n",
       "  </thead>\n",
       "  <tbody>\n",
       "    <tr>\n",
       "      <th>0</th>\n",
       "      <td>39</td>\n",
       "      <td>7</td>\n",
       "      <td>1</td>\n",
       "      <td>546.1</td>\n",
       "      <td>3.3</td>\n",
       "      <td>23</td>\n",
       "      <td>53.3</td>\n",
       "      <td>0</td>\n",
       "      <td>1</td>\n",
       "      <td>1</td>\n",
       "    </tr>\n",
       "    <tr>\n",
       "      <th>1</th>\n",
       "      <td>33</td>\n",
       "      <td>6</td>\n",
       "      <td>1</td>\n",
       "      <td>1069.8</td>\n",
       "      <td>4.9</td>\n",
       "      <td>23</td>\n",
       "      <td>60.5</td>\n",
       "      <td>1</td>\n",
       "      <td>0</td>\n",
       "      <td>1</td>\n",
       "    </tr>\n",
       "    <tr>\n",
       "      <th>2</th>\n",
       "      <td>41</td>\n",
       "      <td>5</td>\n",
       "      <td>1</td>\n",
       "      <td>1293.2</td>\n",
       "      <td>5.0</td>\n",
       "      <td>3</td>\n",
       "      <td>55.9</td>\n",
       "      <td>0</td>\n",
       "      <td>0</td>\n",
       "      <td>1</td>\n",
       "    </tr>\n",
       "    <tr>\n",
       "      <th>3</th>\n",
       "      <td>50</td>\n",
       "      <td>3</td>\n",
       "      <td>1</td>\n",
       "      <td>2443.8</td>\n",
       "      <td>5.9</td>\n",
       "      <td>25</td>\n",
       "      <td>61.8</td>\n",
       "      <td>0</td>\n",
       "      <td>1</td>\n",
       "      <td>0</td>\n",
       "    </tr>\n",
       "    <tr>\n",
       "      <th>4</th>\n",
       "      <td>32</td>\n",
       "      <td>6</td>\n",
       "      <td>0</td>\n",
       "      <td>1778.3</td>\n",
       "      <td>2.3</td>\n",
       "      <td>40</td>\n",
       "      <td>66.8</td>\n",
       "      <td>0</td>\n",
       "      <td>0</td>\n",
       "      <td>1</td>\n",
       "    </tr>\n",
       "  </tbody>\n",
       "</table>\n",
       "</div>"
      ],
      "text/plain": [
       "   Customer_Age  Emails_Opened  Emails_Clicked  Purchase_History  \\\n",
       "0            39              7               1             546.1   \n",
       "1            33              6               1            1069.8   \n",
       "2            41              5               1            1293.2   \n",
       "3            50              3               1            2443.8   \n",
       "4            32              6               0            1778.3   \n",
       "\n",
       "   Time_Spent_On_Website  Days_Since_Last_Open  Customer_Engagement_Score  \\\n",
       "0                    3.3                    23                       53.3   \n",
       "1                    4.9                    23                       60.5   \n",
       "2                    5.0                     3                       55.9   \n",
       "3                    5.9                    25                       61.8   \n",
       "4                    2.3                    40                       66.8   \n",
       "\n",
       "   Opened_Previous_Emails  Clicked_Previous_Emails  Device_Type  \n",
       "0                       0                        1            1  \n",
       "1                       1                        0            1  \n",
       "2                       0                        0            1  \n",
       "3                       0                        1            0  \n",
       "4                       0                        0            1  "
      ]
     },
     "execution_count": 82,
     "metadata": {},
     "output_type": "execute_result"
    }
   ],
   "source": [
    "# Define a function to remove outliers using the IQR method\n",
    "def remove_outliers(df):\n",
    "    df_clean = df.copy()  # Create a copy of the original DataFrame\n",
    "\n",
    "    # Loop through each numeric column in the DataFrame\n",
    "    for col in df_clean.select_dtypes(include=['float64', 'int64']).columns:\n",
    "        Q1 = df_clean[col].quantile(0.25)\n",
    "        Q3 = df_clean[col].quantile(0.75)\n",
    "        IQR = Q3 - Q1\n",
    "\n",
    "        # Define bounds for outliers\n",
    "        lower_bound = Q1 - 1.5 * IQR\n",
    "        upper_bound = Q3 + 1.5 * IQR\n",
    "\n",
    "        # Remove rows that are outliers\n",
    "        df_clean = df_clean[(df_clean[col] >= lower_bound) & (df_clean[col] <= upper_bound)]\n",
    "\n",
    "    return df_clean\n",
    "\n",
    "# Call the function to remove outliers from the DataFrame\n",
    "df_cleaned = remove_outliers(df)\n",
    "\n",
    "print(\"DataFrame after removing outliers:\")\n",
    "df_cleaned.head()"
   ]
  },
  {
   "cell_type": "markdown",
   "metadata": {},
   "source": [
    "#### Feature Scaling"
   ]
  },
  {
   "cell_type": "code",
   "execution_count": 83,
   "metadata": {},
   "outputs": [
    {
     "data": {
      "text/html": [
       "<div>\n",
       "<style scoped>\n",
       "    .dataframe tbody tr th:only-of-type {\n",
       "        vertical-align: middle;\n",
       "    }\n",
       "\n",
       "    .dataframe tbody tr th {\n",
       "        vertical-align: top;\n",
       "    }\n",
       "\n",
       "    .dataframe thead th {\n",
       "        text-align: right;\n",
       "    }\n",
       "</style>\n",
       "<table border=\"1\" class=\"dataframe\">\n",
       "  <thead>\n",
       "    <tr style=\"text-align: right;\">\n",
       "      <th></th>\n",
       "      <th>Customer_Age</th>\n",
       "      <th>Emails_Opened</th>\n",
       "      <th>Emails_Clicked</th>\n",
       "      <th>Purchase_History</th>\n",
       "      <th>Time_Spent_On_Website</th>\n",
       "      <th>Days_Since_Last_Open</th>\n",
       "      <th>Customer_Engagement_Score</th>\n",
       "      <th>Opened_Previous_Emails</th>\n",
       "      <th>Clicked_Previous_Emails</th>\n",
       "      <th>Device_Type</th>\n",
       "    </tr>\n",
       "  </thead>\n",
       "  <tbody>\n",
       "    <tr>\n",
       "      <th>0</th>\n",
       "      <td>39</td>\n",
       "      <td>7</td>\n",
       "      <td>1</td>\n",
       "      <td>0.135958</td>\n",
       "      <td>3.3</td>\n",
       "      <td>23</td>\n",
       "      <td>0.291262</td>\n",
       "      <td>0</td>\n",
       "      <td>1</td>\n",
       "      <td>1</td>\n",
       "    </tr>\n",
       "    <tr>\n",
       "      <th>1</th>\n",
       "      <td>33</td>\n",
       "      <td>6</td>\n",
       "      <td>1</td>\n",
       "      <td>0.340737</td>\n",
       "      <td>4.9</td>\n",
       "      <td>23</td>\n",
       "      <td>0.378641</td>\n",
       "      <td>1</td>\n",
       "      <td>0</td>\n",
       "      <td>1</td>\n",
       "    </tr>\n",
       "    <tr>\n",
       "      <th>2</th>\n",
       "      <td>41</td>\n",
       "      <td>5</td>\n",
       "      <td>1</td>\n",
       "      <td>0.428091</td>\n",
       "      <td>5.0</td>\n",
       "      <td>3</td>\n",
       "      <td>0.322816</td>\n",
       "      <td>0</td>\n",
       "      <td>0</td>\n",
       "      <td>1</td>\n",
       "    </tr>\n",
       "    <tr>\n",
       "      <th>3</th>\n",
       "      <td>50</td>\n",
       "      <td>3</td>\n",
       "      <td>1</td>\n",
       "      <td>0.878001</td>\n",
       "      <td>5.9</td>\n",
       "      <td>25</td>\n",
       "      <td>0.394417</td>\n",
       "      <td>0</td>\n",
       "      <td>1</td>\n",
       "      <td>0</td>\n",
       "    </tr>\n",
       "    <tr>\n",
       "      <th>4</th>\n",
       "      <td>32</td>\n",
       "      <td>6</td>\n",
       "      <td>0</td>\n",
       "      <td>0.617776</td>\n",
       "      <td>2.3</td>\n",
       "      <td>40</td>\n",
       "      <td>0.455097</td>\n",
       "      <td>0</td>\n",
       "      <td>0</td>\n",
       "      <td>1</td>\n",
       "    </tr>\n",
       "  </tbody>\n",
       "</table>\n",
       "</div>"
      ],
      "text/plain": [
       "   Customer_Age  Emails_Opened  Emails_Clicked  Purchase_History  \\\n",
       "0            39              7               1          0.135958   \n",
       "1            33              6               1          0.340737   \n",
       "2            41              5               1          0.428091   \n",
       "3            50              3               1          0.878001   \n",
       "4            32              6               0          0.617776   \n",
       "\n",
       "   Time_Spent_On_Website  Days_Since_Last_Open  Customer_Engagement_Score  \\\n",
       "0                    3.3                    23                   0.291262   \n",
       "1                    4.9                    23                   0.378641   \n",
       "2                    5.0                     3                   0.322816   \n",
       "3                    5.9                    25                   0.394417   \n",
       "4                    2.3                    40                   0.455097   \n",
       "\n",
       "   Opened_Previous_Emails  Clicked_Previous_Emails  Device_Type  \n",
       "0                       0                        1            1  \n",
       "1                       1                        0            1  \n",
       "2                       0                        0            1  \n",
       "3                       0                        1            0  \n",
       "4                       0                        0            1  "
      ]
     },
     "execution_count": 83,
     "metadata": {},
     "output_type": "execute_result"
    }
   ],
   "source": [
    "# Feature Scaling for \"Purchase History\" and \"Customer_Engagement_Score\" using minmax Scaler\n",
    "\n",
    "scale = MinMaxScaler()\n",
    "\n",
    "df_cleaned[[\"Purchase_History\", \"Customer_Engagement_Score\"]] = scale.fit_transform(df_cleaned[[\"Purchase_History\", \"Customer_Engagement_Score\"]])\n",
    "\n",
    "df_cleaned.reset_index()\n",
    "df_cleaned.head()"
   ]
  },
  {
   "cell_type": "markdown",
   "metadata": {},
   "source": [
    "#### Checking Feature Importance"
   ]
  },
  {
   "cell_type": "code",
   "execution_count": 84,
   "metadata": {},
   "outputs": [
    {
     "name": "stdout",
     "output_type": "stream",
     "text": [
      "                           importance\n",
      "Purchase_History             0.189460\n",
      "Customer_Engagement_Score    0.184007\n",
      "Days_Since_Last_Open         0.152433\n",
      "Time_Spent_On_Website        0.147117\n",
      "Customer_Age                 0.146715\n",
      "Emails_Opened                0.083321\n",
      "Emails_Clicked               0.048467\n",
      "Device_Type                  0.026814\n",
      "Clicked_Previous_Emails      0.021666\n"
     ]
    }
   ],
   "source": [
    "from sklearn.ensemble import RandomForestClassifier\n",
    "\n",
    "# Features and Target Variable\n",
    "X= df_cleaned.drop(columns= \"Opened_Previous_Emails\")\n",
    "y = df_cleaned['Opened_Previous_Emails']\n",
    "\n",
    "X_train, X_test, y_train, y_test = train_test_split(X, y, test_size=0.3, random_state=42)\n",
    "\n",
    "# Fit Random Forest model\n",
    "rf = RandomForestClassifier(random_state=42)\n",
    "rf.fit(X_train, y_train)\n",
    "\n",
    "# Get feature importance scores\n",
    "feature_importances = pd.DataFrame(rf.feature_importances_,\n",
    "                                   index=X.columns,\n",
    "                                   columns=['importance']).sort_values('importance', ascending=False)\n",
    "print(feature_importances)"
   ]
  },
  {
   "cell_type": "markdown",
   "metadata": {},
   "source": [
    "\n",
    "**Top Important Features:**\n",
    "- **Purchase_History** (0.189460)\n",
    "- **Customer_Engagement_Score** (0.184007)\n",
    "- **Days_Since_Last_Open** (0.152433)\n",
    "- **Time_Spent_On_Website** (0.147117)\n",
    "- **Customer_Age** (0.146715)\n",
    "\n",
    "These features have relatively high importance, so you should **keep** them as they contribute significantly to your model's predictive power.\n",
    "\n",
    "**Moderately Important Features:**\n",
    "- **Emails_Opened** (0.083321)\n",
    "- **Emails_Clicked** (0.048467)\n",
    "\n",
    "This feature has moderate importance, so you may choose to **retain** it for now, but keep an eye on how it impacts performance during cross-validation.\n",
    "\n",
    "**Less Important Features:**\n",
    "- **Device_Type** (0.026814)\n",
    "- **Clicked_Previous_Emails** (0.021666)\n",
    "\n",
    "These features have low importance, so you might consider **removing** them, especially if you’re looking to simplify the model or reduce dimensionality. However, you can also conduct further experimentation (e.g., cross-validation) to see if removing them improves or harms performance.\n",
    "\n",
    "---\n",
    "\n",
    "**Next Steps**:\n",
    "1. **Feature Selection**:\n",
    "   - You can **remove the least important features** (e.g., `Clicked_Previous_Emails`, `Device_Type`) and see how the model performs after doing so. \n",
    "   - After feature selection, you can re-run the model and check if there is an improvement in model performance metrics like accuracy, precision, recall, etc."
   ]
  },
  {
   "cell_type": "markdown",
   "metadata": {},
   "source": [
    "#### Removing less important features"
   ]
  },
  {
   "cell_type": "code",
   "execution_count": 123,
   "metadata": {},
   "outputs": [
    {
     "data": {
      "text/html": [
       "<div>\n",
       "<style scoped>\n",
       "    .dataframe tbody tr th:only-of-type {\n",
       "        vertical-align: middle;\n",
       "    }\n",
       "\n",
       "    .dataframe tbody tr th {\n",
       "        vertical-align: top;\n",
       "    }\n",
       "\n",
       "    .dataframe thead th {\n",
       "        text-align: right;\n",
       "    }\n",
       "</style>\n",
       "<table border=\"1\" class=\"dataframe\">\n",
       "  <thead>\n",
       "    <tr style=\"text-align: right;\">\n",
       "      <th></th>\n",
       "      <th>Customer_Age</th>\n",
       "      <th>Emails_Opened</th>\n",
       "      <th>Emails_Clicked</th>\n",
       "      <th>Purchase_History</th>\n",
       "      <th>Time_Spent_On_Website</th>\n",
       "      <th>Days_Since_Last_Open</th>\n",
       "      <th>Customer_Engagement_Score</th>\n",
       "      <th>Opened_Previous_Emails</th>\n",
       "    </tr>\n",
       "  </thead>\n",
       "  <tbody>\n",
       "    <tr>\n",
       "      <th>0</th>\n",
       "      <td>39</td>\n",
       "      <td>7</td>\n",
       "      <td>1</td>\n",
       "      <td>0.135958</td>\n",
       "      <td>3.3</td>\n",
       "      <td>23</td>\n",
       "      <td>0.291262</td>\n",
       "      <td>0</td>\n",
       "    </tr>\n",
       "    <tr>\n",
       "      <th>1</th>\n",
       "      <td>33</td>\n",
       "      <td>6</td>\n",
       "      <td>1</td>\n",
       "      <td>0.340737</td>\n",
       "      <td>4.9</td>\n",
       "      <td>23</td>\n",
       "      <td>0.378641</td>\n",
       "      <td>1</td>\n",
       "    </tr>\n",
       "    <tr>\n",
       "      <th>2</th>\n",
       "      <td>41</td>\n",
       "      <td>5</td>\n",
       "      <td>1</td>\n",
       "      <td>0.428091</td>\n",
       "      <td>5.0</td>\n",
       "      <td>3</td>\n",
       "      <td>0.322816</td>\n",
       "      <td>0</td>\n",
       "    </tr>\n",
       "    <tr>\n",
       "      <th>3</th>\n",
       "      <td>50</td>\n",
       "      <td>3</td>\n",
       "      <td>1</td>\n",
       "      <td>0.878001</td>\n",
       "      <td>5.9</td>\n",
       "      <td>25</td>\n",
       "      <td>0.394417</td>\n",
       "      <td>0</td>\n",
       "    </tr>\n",
       "    <tr>\n",
       "      <th>4</th>\n",
       "      <td>32</td>\n",
       "      <td>6</td>\n",
       "      <td>0</td>\n",
       "      <td>0.617776</td>\n",
       "      <td>2.3</td>\n",
       "      <td>40</td>\n",
       "      <td>0.455097</td>\n",
       "      <td>0</td>\n",
       "    </tr>\n",
       "  </tbody>\n",
       "</table>\n",
       "</div>"
      ],
      "text/plain": [
       "   Customer_Age  Emails_Opened  Emails_Clicked  Purchase_History  \\\n",
       "0            39              7               1          0.135958   \n",
       "1            33              6               1          0.340737   \n",
       "2            41              5               1          0.428091   \n",
       "3            50              3               1          0.878001   \n",
       "4            32              6               0          0.617776   \n",
       "\n",
       "   Time_Spent_On_Website  Days_Since_Last_Open  Customer_Engagement_Score  \\\n",
       "0                    3.3                    23                   0.291262   \n",
       "1                    4.9                    23                   0.378641   \n",
       "2                    5.0                     3                   0.322816   \n",
       "3                    5.9                    25                   0.394417   \n",
       "4                    2.3                    40                   0.455097   \n",
       "\n",
       "   Opened_Previous_Emails  \n",
       "0                       0  \n",
       "1                       1  \n",
       "2                       0  \n",
       "3                       0  \n",
       "4                       0  "
      ]
     },
     "execution_count": 123,
     "metadata": {},
     "output_type": "execute_result"
    }
   ],
   "source": [
    "df_selected = df_cleaned.drop(columns=['Device_Type','Clicked_Previous_Emails'])\n",
    "df_selected.head()"
   ]
  },
  {
   "cell_type": "markdown",
   "metadata": {},
   "source": [
    "#### Calculating VIF for each feature"
   ]
  },
  {
   "cell_type": "code",
   "execution_count": 124,
   "metadata": {},
   "outputs": [
    {
     "data": {
      "text/html": [
       "<div>\n",
       "<style scoped>\n",
       "    .dataframe tbody tr th:only-of-type {\n",
       "        vertical-align: middle;\n",
       "    }\n",
       "\n",
       "    .dataframe tbody tr th {\n",
       "        vertical-align: top;\n",
       "    }\n",
       "\n",
       "    .dataframe thead th {\n",
       "        text-align: right;\n",
       "    }\n",
       "</style>\n",
       "<table border=\"1\" class=\"dataframe\">\n",
       "  <thead>\n",
       "    <tr style=\"text-align: right;\">\n",
       "      <th></th>\n",
       "      <th>feature</th>\n",
       "      <th>VIF</th>\n",
       "    </tr>\n",
       "  </thead>\n",
       "  <tbody>\n",
       "    <tr>\n",
       "      <th>0</th>\n",
       "      <td>Customer_Age</td>\n",
       "      <td>10.137086</td>\n",
       "    </tr>\n",
       "    <tr>\n",
       "      <th>1</th>\n",
       "      <td>Emails_Opened</td>\n",
       "      <td>5.595818</td>\n",
       "    </tr>\n",
       "    <tr>\n",
       "      <th>2</th>\n",
       "      <td>Emails_Clicked</td>\n",
       "      <td>3.491002</td>\n",
       "    </tr>\n",
       "    <tr>\n",
       "      <th>3</th>\n",
       "      <td>Purchase_History</td>\n",
       "      <td>6.686037</td>\n",
       "    </tr>\n",
       "    <tr>\n",
       "      <th>4</th>\n",
       "      <td>Time_Spent_On_Website</td>\n",
       "      <td>6.962403</td>\n",
       "    </tr>\n",
       "    <tr>\n",
       "      <th>5</th>\n",
       "      <td>Days_Since_Last_Open</td>\n",
       "      <td>4.613721</td>\n",
       "    </tr>\n",
       "    <tr>\n",
       "      <th>6</th>\n",
       "      <td>Customer_Engagement_Score</td>\n",
       "      <td>6.660966</td>\n",
       "    </tr>\n",
       "    <tr>\n",
       "      <th>7</th>\n",
       "      <td>Opened_Previous_Emails</td>\n",
       "      <td>2.048880</td>\n",
       "    </tr>\n",
       "  </tbody>\n",
       "</table>\n",
       "</div>"
      ],
      "text/plain": [
       "                     feature        VIF\n",
       "0               Customer_Age  10.137086\n",
       "1              Emails_Opened   5.595818\n",
       "2             Emails_Clicked   3.491002\n",
       "3           Purchase_History   6.686037\n",
       "4      Time_Spent_On_Website   6.962403\n",
       "5       Days_Since_Last_Open   4.613721\n",
       "6  Customer_Engagement_Score   6.660966\n",
       "7     Opened_Previous_Emails   2.048880"
      ]
     },
     "execution_count": 124,
     "metadata": {},
     "output_type": "execute_result"
    }
   ],
   "source": [
    "def calculate_vif(df):\n",
    "    # Ensure that only numerical columns are considered\n",
    "    numeric_df = df.select_dtypes(include=['float64', 'int64'])\n",
    "    \n",
    "    # Calculate VIF for each feature\n",
    "    vif_data = pd.DataFrame()\n",
    "    vif_data[\"feature\"] = numeric_df.columns\n",
    "    vif_data[\"VIF\"] = [variance_inflation_factor(numeric_df.values, i) for i in range(len(numeric_df.columns))]\n",
    "    \n",
    "    return vif_data\n",
    "\n",
    "# Example DataFrame `df`\n",
    "vif_df = calculate_vif(df_selected)\n",
    "vif_df"
   ]
  },
  {
   "cell_type": "markdown",
   "metadata": {},
   "source": [
    "After removing `Device_Type` and `Clicked_Previous_Emails`, the VIF values for some features remain moderately high, especially for `Customer_Age` (10.14), `Purchase_History` (6.69), `Time_Spent_On_Website` (6.96), and `Customer_Engagement_Score` (6.66).\n",
    "\n",
    "### Next Steps\n",
    "To further reduce multicollinearity while preserving predictive power, consider the following:\n",
    "\n",
    "1. **Remove `Customer_Age`**: This feature still has a high VIF (10.14) and a moderate importance score. Removing it could help reduce multicollinearity significantly.\n",
    "\n",
    "2. **Review `Customer_Engagement_Score`, `Purchase_History`, and `Time_Spent_On_Website`**: These features all have moderate VIFs and high importance scores. Since they contribute predictive value, try removing one at a time and assess if the remaining VIF values stabilize.\n",
    "\n",
    "After each removal, reevaluate VIF and model performance. This iterative approach will help you find the optimal subset of features that balances multicollinearity reduction and model strength."
   ]
  },
  {
   "cell_type": "code",
   "execution_count": 125,
   "metadata": {},
   "outputs": [
    {
     "data": {
      "text/html": [
       "<div>\n",
       "<style scoped>\n",
       "    .dataframe tbody tr th:only-of-type {\n",
       "        vertical-align: middle;\n",
       "    }\n",
       "\n",
       "    .dataframe tbody tr th {\n",
       "        vertical-align: top;\n",
       "    }\n",
       "\n",
       "    .dataframe thead th {\n",
       "        text-align: right;\n",
       "    }\n",
       "</style>\n",
       "<table border=\"1\" class=\"dataframe\">\n",
       "  <thead>\n",
       "    <tr style=\"text-align: right;\">\n",
       "      <th></th>\n",
       "      <th>Emails_Opened</th>\n",
       "      <th>Emails_Clicked</th>\n",
       "      <th>Purchase_History</th>\n",
       "      <th>Time_Spent_On_Website</th>\n",
       "      <th>Days_Since_Last_Open</th>\n",
       "      <th>Customer_Engagement_Score</th>\n",
       "      <th>Opened_Previous_Emails</th>\n",
       "    </tr>\n",
       "  </thead>\n",
       "  <tbody>\n",
       "    <tr>\n",
       "      <th>0</th>\n",
       "      <td>7</td>\n",
       "      <td>1</td>\n",
       "      <td>0.135958</td>\n",
       "      <td>3.3</td>\n",
       "      <td>23</td>\n",
       "      <td>0.291262</td>\n",
       "      <td>0</td>\n",
       "    </tr>\n",
       "    <tr>\n",
       "      <th>1</th>\n",
       "      <td>6</td>\n",
       "      <td>1</td>\n",
       "      <td>0.340737</td>\n",
       "      <td>4.9</td>\n",
       "      <td>23</td>\n",
       "      <td>0.378641</td>\n",
       "      <td>1</td>\n",
       "    </tr>\n",
       "    <tr>\n",
       "      <th>2</th>\n",
       "      <td>5</td>\n",
       "      <td>1</td>\n",
       "      <td>0.428091</td>\n",
       "      <td>5.0</td>\n",
       "      <td>3</td>\n",
       "      <td>0.322816</td>\n",
       "      <td>0</td>\n",
       "    </tr>\n",
       "    <tr>\n",
       "      <th>3</th>\n",
       "      <td>3</td>\n",
       "      <td>1</td>\n",
       "      <td>0.878001</td>\n",
       "      <td>5.9</td>\n",
       "      <td>25</td>\n",
       "      <td>0.394417</td>\n",
       "      <td>0</td>\n",
       "    </tr>\n",
       "    <tr>\n",
       "      <th>4</th>\n",
       "      <td>6</td>\n",
       "      <td>0</td>\n",
       "      <td>0.617776</td>\n",
       "      <td>2.3</td>\n",
       "      <td>40</td>\n",
       "      <td>0.455097</td>\n",
       "      <td>0</td>\n",
       "    </tr>\n",
       "  </tbody>\n",
       "</table>\n",
       "</div>"
      ],
      "text/plain": [
       "   Emails_Opened  Emails_Clicked  Purchase_History  Time_Spent_On_Website  \\\n",
       "0              7               1          0.135958                    3.3   \n",
       "1              6               1          0.340737                    4.9   \n",
       "2              5               1          0.428091                    5.0   \n",
       "3              3               1          0.878001                    5.9   \n",
       "4              6               0          0.617776                    2.3   \n",
       "\n",
       "   Days_Since_Last_Open  Customer_Engagement_Score  Opened_Previous_Emails  \n",
       "0                    23                   0.291262                       0  \n",
       "1                    23                   0.378641                       1  \n",
       "2                     3                   0.322816                       0  \n",
       "3                    25                   0.394417                       0  \n",
       "4                    40                   0.455097                       0  "
      ]
     },
     "execution_count": 125,
     "metadata": {},
     "output_type": "execute_result"
    }
   ],
   "source": [
    "df_selected = df_selected.drop(columns=['Customer_Age'])\n",
    "df_selected.head()"
   ]
  },
  {
   "cell_type": "code",
   "execution_count": 126,
   "metadata": {},
   "outputs": [
    {
     "data": {
      "text/html": [
       "<div>\n",
       "<style scoped>\n",
       "    .dataframe tbody tr th:only-of-type {\n",
       "        vertical-align: middle;\n",
       "    }\n",
       "\n",
       "    .dataframe tbody tr th {\n",
       "        vertical-align: top;\n",
       "    }\n",
       "\n",
       "    .dataframe thead th {\n",
       "        text-align: right;\n",
       "    }\n",
       "</style>\n",
       "<table border=\"1\" class=\"dataframe\">\n",
       "  <thead>\n",
       "    <tr style=\"text-align: right;\">\n",
       "      <th></th>\n",
       "      <th>feature</th>\n",
       "      <th>VIF</th>\n",
       "    </tr>\n",
       "  </thead>\n",
       "  <tbody>\n",
       "    <tr>\n",
       "      <th>0</th>\n",
       "      <td>Emails_Opened</td>\n",
       "      <td>5.370644</td>\n",
       "    </tr>\n",
       "    <tr>\n",
       "      <th>1</th>\n",
       "      <td>Emails_Clicked</td>\n",
       "      <td>3.352544</td>\n",
       "    </tr>\n",
       "    <tr>\n",
       "      <th>2</th>\n",
       "      <td>Purchase_History</td>\n",
       "      <td>6.337158</td>\n",
       "    </tr>\n",
       "    <tr>\n",
       "      <th>3</th>\n",
       "      <td>Time_Spent_On_Website</td>\n",
       "      <td>6.594123</td>\n",
       "    </tr>\n",
       "    <tr>\n",
       "      <th>4</th>\n",
       "      <td>Days_Since_Last_Open</td>\n",
       "      <td>4.461960</td>\n",
       "    </tr>\n",
       "    <tr>\n",
       "      <th>5</th>\n",
       "      <td>Customer_Engagement_Score</td>\n",
       "      <td>6.240413</td>\n",
       "    </tr>\n",
       "    <tr>\n",
       "      <th>6</th>\n",
       "      <td>Opened_Previous_Emails</td>\n",
       "      <td>2.003949</td>\n",
       "    </tr>\n",
       "  </tbody>\n",
       "</table>\n",
       "</div>"
      ],
      "text/plain": [
       "                     feature       VIF\n",
       "0              Emails_Opened  5.370644\n",
       "1             Emails_Clicked  3.352544\n",
       "2           Purchase_History  6.337158\n",
       "3      Time_Spent_On_Website  6.594123\n",
       "4       Days_Since_Last_Open  4.461960\n",
       "5  Customer_Engagement_Score  6.240413\n",
       "6     Opened_Previous_Emails  2.003949"
      ]
     },
     "execution_count": 126,
     "metadata": {},
     "output_type": "execute_result"
    }
   ],
   "source": [
    "# Example DataFrame `df`\n",
    "vif_df = calculate_vif(df_selected)\n",
    "vif_df"
   ]
  },
  {
   "cell_type": "markdown",
   "metadata": {},
   "source": [
    "#### Splitting Dataset in Training and Testing Sets (Before Resampling)"
   ]
  },
  {
   "cell_type": "code",
   "execution_count": 127,
   "metadata": {},
   "outputs": [
    {
     "name": "stdout",
     "output_type": "stream",
     "text": [
      "(762, 6) (191, 6) (762,) (191,)\n"
     ]
    }
   ],
   "source": [
    "# Features and Target Variable\n",
    "X_bs= df_selected.drop(columns= \"Opened_Previous_Emails\")     # before resampling\n",
    "y_bs = df_selected['Opened_Previous_Emails']\n",
    "\n",
    "X_train_bs, X_test_bs, y_train_bs, y_test_bs = train_test_split(X_bs, y_bs, test_size=0.2, random_state=42)\n",
    "\n",
    "# Check the shapes of the split datasets\n",
    "print(X_train_bs.shape, X_test_bs.shape, y_train_bs.shape, y_test_bs.shape)"
   ]
  },
  {
   "cell_type": "markdown",
   "metadata": {},
   "source": [
    "## Baseline Models Training & Evaluation"
   ]
  },
  {
   "cell_type": "markdown",
   "metadata": {},
   "source": [
    "### Loading Required Libraries"
   ]
  },
  {
   "cell_type": "code",
   "execution_count": 128,
   "metadata": {},
   "outputs": [],
   "source": [
    "from sklearn.neighbors import KNeighborsClassifier\n",
    "from sklearn.ensemble import RandomForestClassifier\n",
    "from xgboost import XGBClassifier\n",
    "from sklearn.neural_network import MLPClassifier\n",
    "from sklearn.model_selection import GridSearchCV\n",
    "from sklearn.metrics import accuracy_score, classification_report, recall_score, precision_score, confusion_matrix,f1_score"
   ]
  },
  {
   "cell_type": "markdown",
   "metadata": {},
   "source": [
    "### RandomForest Classifier (Baseline Model)"
   ]
  },
  {
   "cell_type": "code",
   "execution_count": 129,
   "metadata": {},
   "outputs": [
    {
     "name": "stdout",
     "output_type": "stream",
     "text": [
      "RandomForest Model Evaluation Metrics:\n",
      " - Accuracy: 0.5549738219895288\n",
      " - Precision Score: 0.5729166666666666\n",
      " - Recall Score: 0.5555555555555556\n",
      " - F1 Score: 0.5641025641025641\n",
      " -               precision    recall  f1-score   support\n",
      "\n",
      "           0       0.54      0.55      0.55        92\n",
      "           1       0.57      0.56      0.56        99\n",
      "\n",
      "    accuracy                           0.55       191\n",
      "   macro avg       0.55      0.55      0.55       191\n",
      "weighted avg       0.56      0.55      0.56       191\n",
      "\n"
     ]
    }
   ],
   "source": [
    "# Defining the Random Forest classifier model\n",
    "rf_bsl = RandomForestClassifier(criterion= 'gini',random_state= 42, class_weight='balanced')\n",
    "\n",
    "# Baseline model training on imbalanced data\n",
    "rf_bsl.fit(X_train_bs, y_train_bs)\n",
    "y_pred_rf_bsl = rf_bsl.predict(X_test_bs)\n",
    "\n",
    "\n",
    "# Calculate metrics\n",
    "accuracy_rf_bsl = accuracy_score(y_test_bs,y_pred_rf_bsl)\n",
    "precision_rf_bsl = precision_score(y_test_bs, y_pred_rf_bsl)\n",
    "recall_rf_bsl = recall_score(y_test_bs, y_pred_rf_bsl)\n",
    "f1_score_rf_bsl = f1_score(y_test_bs,y_pred_rf_bsl)\n",
    "\n",
    "# Print metrics with context\n",
    "print(f\"RandomForest Model Evaluation Metrics:\\n\"\n",
    "      f\" - Accuracy: {accuracy_rf_bsl}\\n\"\n",
    "      f\" - Precision Score: {precision_rf_bsl}\\n\"\n",
    "      f\" - Recall Score: {recall_rf_bsl}\\n\"\n",
    "      f\" - F1 Score: {f1_score_rf_bsl}\\n\"\n",
    "      f\" - {classification_report(y_test_bs,y_pred_rf_bsl)}\")"
   ]
  },
  {
   "cell_type": "markdown",
   "metadata": {},
   "source": [
    "### XGB Classifier (Baseline Model)"
   ]
  },
  {
   "cell_type": "code",
   "execution_count": 130,
   "metadata": {},
   "outputs": [
    {
     "name": "stdout",
     "output_type": "stream",
     "text": [
      "RandomForest Model Evaluation Metrics:\n",
      " - Accuracy: 0.5130890052356021\n",
      " - Precision Score: 0.53125\n",
      " - Recall Score: 0.5151515151515151\n",
      " - F1 Score: 0.5230769230769231\n",
      " -               precision    recall  f1-score   support\n",
      "\n",
      "           0       0.49      0.51      0.50        92\n",
      "           1       0.53      0.52      0.52        99\n",
      "\n",
      "    accuracy                           0.51       191\n",
      "   macro avg       0.51      0.51      0.51       191\n",
      "weighted avg       0.51      0.51      0.51       191\n",
      "\n"
     ]
    }
   ],
   "source": [
    "# Defining the Random Forest classifier model\n",
    "xgb_bsl = XGBClassifier(random_state=42, max_depth = 30)\n",
    "\n",
    "# Baseline model training on imbalanced data\n",
    "xgb_bsl.fit(X_train_bs, y_train_bs)\n",
    "y_pred_xgb_bsl = xgb_bsl.predict(X_test_bs)\n",
    "\n",
    "\n",
    "# Calculate metrics\n",
    "accuracy_xgb_bsl = accuracy_score(y_test_bs,y_pred_xgb_bsl)\n",
    "precision_xgb_bsl = precision_score(y_test_bs, y_pred_xgb_bsl)\n",
    "recall_xgb_bsl = recall_score(y_test_bs, y_pred_xgb_bsl)\n",
    "f1_score_xgb_bsl = f1_score(y_test_bs,y_pred_xgb_bsl)\n",
    "\n",
    "# Print metrics with context\n",
    "print(f\"RandomForest Model Evaluation Metrics:\\n\"\n",
    "      f\" - Accuracy: {accuracy_xgb_bsl}\\n\"\n",
    "      f\" - Precision Score: {precision_xgb_bsl}\\n\"\n",
    "      f\" - Recall Score: {recall_xgb_bsl}\\n\"\n",
    "      f\" - F1 Score: {f1_score_xgb_bsl}\\n\"\n",
    "      f\" - {classification_report(y_test_bs,y_pred_xgb_bsl)}\")"
   ]
  },
  {
   "cell_type": "markdown",
   "metadata": {},
   "source": [
    "### MLP Classifier (Baseline Model)"
   ]
  },
  {
   "cell_type": "code",
   "execution_count": 131,
   "metadata": {},
   "outputs": [
    {
     "name": "stdout",
     "output_type": "stream",
     "text": [
      "RandomForest Model Evaluation Metrics:\n",
      " - Accuracy: 0.5078534031413613\n",
      " - Precision Score: 0.514792899408284\n",
      " - Recall Score: 0.8787878787878788\n",
      " - F1 Score: 0.6492537313432836\n",
      " -               precision    recall  f1-score   support\n",
      "\n",
      "           0       0.45      0.11      0.18        92\n",
      "           1       0.51      0.88      0.65        99\n",
      "\n",
      "    accuracy                           0.51       191\n",
      "   macro avg       0.48      0.49      0.41       191\n",
      "weighted avg       0.49      0.51      0.42       191\n",
      "\n"
     ]
    }
   ],
   "source": [
    "# Defining the Random Forest classifier model\n",
    "mlp_bsl = MLPClassifier( \n",
    "    learning_rate_init=0.01,\n",
    "    hidden_layer_sizes=(32,64),\n",
    "    alpha=0.1,\n",
    "    activation='tanh',\n",
    "    max_iter=500,\n",
    "    random_state=42)\n",
    "\n",
    "# Baseline model training on imbalanced data\n",
    "mlp_bsl.fit(X_train_bs, y_train_bs)\n",
    "y_pred_mlp_bsl = mlp_bsl.predict(X_test_bs)\n",
    "\n",
    "\n",
    "# Calculate metrics\n",
    "accuracy_mlp_bsl = accuracy_score(y_test_bs,y_pred_mlp_bsl)\n",
    "precision_mlp_bsl = precision_score(y_test_bs, y_pred_mlp_bsl)\n",
    "recall_mlp_bsl = recall_score(y_test_bs, y_pred_mlp_bsl)\n",
    "f1_score_mlp_bsl = f1_score(y_test_bs,y_pred_mlp_bsl)\n",
    "\n",
    "# Print metrics with context\n",
    "print(f\"RandomForest Model Evaluation Metrics:\\n\"\n",
    "      f\" - Accuracy: {accuracy_mlp_bsl}\\n\"\n",
    "      f\" - Precision Score: {precision_mlp_bsl}\\n\"\n",
    "      f\" - Recall Score: {recall_mlp_bsl}\\n\"\n",
    "      f\" - F1 Score: {f1_score_mlp_bsl}\\n\"\n",
    "      f\" - {classification_report(y_test_bs,y_pred_mlp_bsl)}\")"
   ]
  },
  {
   "cell_type": "markdown",
   "metadata": {},
   "source": [
    "## Resampling (Handling Class Imbalance)"
   ]
  },
  {
   "cell_type": "markdown",
   "metadata": {},
   "source": [
    "### Checking Class Imbalance in Target Variable"
   ]
  },
  {
   "cell_type": "code",
   "execution_count": 132,
   "metadata": {},
   "outputs": [
    {
     "data": {
      "text/plain": [
       "Opened_Previous_Emails\n",
       "1    491\n",
       "0    462\n",
       "Name: count, dtype: int64"
      ]
     },
     "execution_count": 132,
     "metadata": {},
     "output_type": "execute_result"
    }
   ],
   "source": [
    "# Check for class imbalance in the target variable\n",
    "target_distribution = df_selected['Opened_Previous_Emails'].value_counts()\n",
    "target_distribution"
   ]
  },
  {
   "cell_type": "markdown",
   "metadata": {},
   "source": [
    "**Insight**\n",
    "\n",
    "Target Variable (Opened_Previous_Emails):\n",
    "\n",
    " The distribution is little bit imbalance:\n",
    "- 491 of customers opened previous emails (1).\n",
    "- 462 did not open previous emails (0)"
   ]
  },
  {
   "cell_type": "markdown",
   "metadata": {},
   "source": [
    "### Handling Class imbalance (Oversampling)"
   ]
  },
  {
   "cell_type": "code",
   "execution_count": 133,
   "metadata": {},
   "outputs": [
    {
     "data": {
      "text/plain": [
       "Opened_Previous_Emails\n",
       "1    491\n",
       "0    491\n",
       "Name: count, dtype: int64"
      ]
     },
     "execution_count": 133,
     "metadata": {},
     "output_type": "execute_result"
    }
   ],
   "source": [
    "minority_class = df_selected[df_selected['Opened_Previous_Emails'] == 0]\n",
    "majority_class = df_selected[df_selected['Opened_Previous_Emails'] == 1]\n",
    "minority_resampled = resample(minority_class,n_samples= len(majority_class), replace= True, random_state= 42)\n",
    "df_resample = pd.concat([majority_class,minority_resampled])\n",
    "df_resample['Opened_Previous_Emails'].value_counts()"
   ]
  },
  {
   "cell_type": "markdown",
   "metadata": {},
   "source": [
    "### Splitting Dataset in Training and Testing Sets (After Resampling)"
   ]
  },
  {
   "cell_type": "code",
   "execution_count": 134,
   "metadata": {},
   "outputs": [
    {
     "name": "stdout",
     "output_type": "stream",
     "text": [
      "(785, 6) (197, 6) (785,) (197,)\n"
     ]
    }
   ],
   "source": [
    "# Features and Target Variable\n",
    "X_as = df_resample.drop(columns= \"Opened_Previous_Emails\")   #After Resampling\n",
    "y_as = df_resample['Opened_Previous_Emails']\n",
    "\n",
    "# Spliting Data into 80% training and 20% testing data\n",
    "X_train_as,X_test_as,y_train_as,y_test_as = train_test_split(X_as,y_as, test_size= 0.2, random_state= 42)\n",
    "\n",
    "# Check the shapes of the split datasets\n",
    "print(X_train_as.shape, X_test_as.shape, y_train_as.shape, y_test_as.shape)"
   ]
  },
  {
   "cell_type": "markdown",
   "metadata": {},
   "source": [
    "## Model Training & Evaluation (After Resampling)"
   ]
  },
  {
   "cell_type": "markdown",
   "metadata": {},
   "source": [
    "### Random Forest Classifier Model (After Resampling)"
   ]
  },
  {
   "cell_type": "code",
   "execution_count": 135,
   "metadata": {},
   "outputs": [
    {
     "name": "stdout",
     "output_type": "stream",
     "text": [
      "RandomForest Model Evaluation Metrics:\n",
      " - Accuracy: 0.6852791878172588\n",
      " - Precision Score: 0.7\n",
      " - Recall Score: 0.6428571428571429\n",
      " - F1 Score: 0.6702127659574468\n",
      " -               precision    recall  f1-score   support\n",
      "\n",
      "           0       0.67      0.73      0.70        99\n",
      "           1       0.70      0.64      0.67        98\n",
      "\n",
      "    accuracy                           0.69       197\n",
      "   macro avg       0.69      0.69      0.68       197\n",
      "weighted avg       0.69      0.69      0.68       197\n",
      "\n"
     ]
    }
   ],
   "source": [
    "# Defining the Random Forest classifier model\n",
    "rf_as = RandomForestClassifier(criterion= 'entropy',random_state= 42, class_weight='balanced')\n",
    "\n",
    "# Baseline model training on imbalanced data\n",
    "rf_as.fit(X_train_as, y_train_as)\n",
    "y_pred_rf_as = rf_as.predict(X_test_as)\n",
    "\n",
    "\n",
    "# Calculate metrics\n",
    "accuracy_rf_as = accuracy_score(y_test_as,y_pred_rf_as)\n",
    "precision_rf_as = precision_score(y_test_as, y_pred_rf_as)\n",
    "recall_rf_as = recall_score(y_test_as, y_pred_rf_as)\n",
    "f1_score_rf_as = f1_score(y_test_as,y_pred_rf_as)\n",
    "\n",
    "# Print metrics with context\n",
    "print(f\"RandomForest Model Evaluation Metrics:\\n\"\n",
    "      f\" - Accuracy: {accuracy_rf_as}\\n\"\n",
    "      f\" - Precision Score: {precision_rf_as}\\n\"\n",
    "      f\" - Recall Score: {recall_rf_as}\\n\"\n",
    "      f\" - F1 Score: {f1_score_rf_as}\\n\"\n",
    "      f\" - {classification_report(y_test_as,y_pred_rf_as)}\")"
   ]
  },
  {
   "cell_type": "markdown",
   "metadata": {},
   "source": [
    "### XGB Classifier Model (After Resampling)"
   ]
  },
  {
   "cell_type": "code",
   "execution_count": 136,
   "metadata": {},
   "outputs": [
    {
     "name": "stdout",
     "output_type": "stream",
     "text": [
      "RandomForest Model Evaluation Metrics:\n",
      " - Accuracy: 0.6802030456852792\n",
      " - Precision Score: 0.7058823529411765\n",
      " - Recall Score: 0.6122448979591837\n",
      " - F1 Score: 0.6557377049180327\n",
      " -               precision    recall  f1-score   support\n",
      "\n",
      "           0       0.66      0.75      0.70        99\n",
      "           1       0.71      0.61      0.66        98\n",
      "\n",
      "    accuracy                           0.68       197\n",
      "   macro avg       0.68      0.68      0.68       197\n",
      "weighted avg       0.68      0.68      0.68       197\n",
      "\n"
     ]
    }
   ],
   "source": [
    "# Defining the Random Forest classifier model\n",
    "xgb_as = XGBClassifier(random_state=42, max_depth = 30)\n",
    "\n",
    "# Baseline model training on imbalanced data\n",
    "xgb_as.fit(X_train_as, y_train_as)\n",
    "y_pred_xgb_as = xgb_as.predict(X_test_as)\n",
    "\n",
    "\n",
    "# Calculate metrics\n",
    "accuracy_xgb_as = accuracy_score(y_test_as,y_pred_xgb_as)\n",
    "precision_xgb_as = precision_score(y_test_as, y_pred_xgb_as)\n",
    "recall_xgb_as = recall_score(y_test_as, y_pred_xgb_as)\n",
    "f1_score_xgb_as = f1_score(y_test_as,y_pred_xgb_as)\n",
    "\n",
    "# Print metrics with context\n",
    "print(f\"RandomForest Model Evaluation Metrics:\\n\"\n",
    "      f\" - Accuracy: {accuracy_xgb_as}\\n\"\n",
    "      f\" - Precision Score: {precision_xgb_as}\\n\"\n",
    "      f\" - Recall Score: {recall_xgb_as}\\n\"\n",
    "      f\" - F1 Score: {f1_score_xgb_as}\\n\"\n",
    "      f\" - {classification_report(y_test_as,y_pred_xgb_as)}\")"
   ]
  },
  {
   "cell_type": "markdown",
   "metadata": {},
   "source": [
    "### MLP Classifier Model (After Resampling)"
   ]
  },
  {
   "cell_type": "code",
   "execution_count": 137,
   "metadata": {},
   "outputs": [
    {
     "name": "stdout",
     "output_type": "stream",
     "text": [
      "RandomForest Model Evaluation Metrics:\n",
      " - Accuracy: 0.5329949238578681\n",
      " - Precision Score: 0.5306122448979592\n",
      " - Recall Score: 0.5306122448979592\n",
      " - F1 Score: 0.5306122448979592\n",
      " -               precision    recall  f1-score   support\n",
      "\n",
      "           0       0.54      0.54      0.54        99\n",
      "           1       0.53      0.53      0.53        98\n",
      "\n",
      "    accuracy                           0.53       197\n",
      "   macro avg       0.53      0.53      0.53       197\n",
      "weighted avg       0.53      0.53      0.53       197\n",
      "\n"
     ]
    }
   ],
   "source": [
    "# Defining the Random Forest classifier model\n",
    "mlp_as = MLPClassifier( \n",
    "    learning_rate_init=0.001,\n",
    "    hidden_layer_sizes=(32,64),\n",
    "    alpha=0.1,\n",
    "    activation='tanh',\n",
    "    max_iter=500,\n",
    "    random_state=42)\n",
    "\n",
    "# Baseline model training on imbalanced data\n",
    "mlp_as.fit(X_train_as, y_train_as)\n",
    "y_pred_mlp_as = mlp_as.predict(X_test_as)\n",
    "\n",
    "\n",
    "# Calculate metrics\n",
    "accuracy_mlp_as = accuracy_score(y_test_as,y_pred_mlp_as)\n",
    "precision_mlp_as = precision_score(y_test_as, y_pred_mlp_as)\n",
    "recall_mlp_as = recall_score(y_test_as, y_pred_mlp_as)\n",
    "f1_score_mlp_as = f1_score(y_test_as,y_pred_mlp_as)\n",
    "\n",
    "# Print metrics with context\n",
    "print(f\"RandomForest Model Evaluation Metrics:\\n\"\n",
    "      f\" - Accuracy: {accuracy_mlp_as}\\n\"\n",
    "      f\" - Precision Score: {precision_mlp_as}\\n\"\n",
    "      f\" - Recall Score: {recall_mlp_as}\\n\"\n",
    "      f\" - F1 Score: {f1_score_mlp_as}\\n\"\n",
    "      f\" - {classification_report(y_test_as,y_pred_mlp_as)}\")"
   ]
  },
  {
   "cell_type": "markdown",
   "metadata": {},
   "source": [
    "## Hyperparameter Tuning"
   ]
  },
  {
   "cell_type": "markdown",
   "metadata": {},
   "source": [
    "### Tuning RandomForest Classifier Model using GridSearchCV"
   ]
  },
  {
   "cell_type": "code",
   "execution_count": 138,
   "metadata": {},
   "outputs": [
    {
     "name": "stdout",
     "output_type": "stream",
     "text": [
      "Fitting 5 folds for each of 72 candidates, totalling 360 fits\n",
      "Best Parameters: {'criterion': 'entropy', 'max_depth': None, 'min_samples_split': 10, 'n_estimators': 200}\n",
      "RandomForest Model using Best Params Evaluation Metrics:\n",
      " - Accuracy: 0.6802030456852792\n",
      " - Precision Score: 0.6923076923076923\n",
      " - Recall Score: 0.6428571428571429\n",
      " - F1 Score: 0.6666666666666666\n",
      " -               precision    recall  f1-score   support\n",
      "\n",
      "           0       0.67      0.72      0.69        99\n",
      "           1       0.69      0.64      0.67        98\n",
      "\n",
      "    accuracy                           0.68       197\n",
      "   macro avg       0.68      0.68      0.68       197\n",
      "weighted avg       0.68      0.68      0.68       197\n",
      "\n"
     ]
    }
   ],
   "source": [
    "from sklearn.model_selection import GridSearchCV\n",
    "\n",
    "# Define the parameter grid\n",
    "param_grid_rf = {\n",
    "    'criterion' : ['gini','entropy'],\n",
    "    'n_estimators': [ 200, 300,400],\n",
    "    'max_depth': [None,10,20,30],\n",
    "    'min_samples_split': [2, 5, 10]\n",
    "}\n",
    "\n",
    "# Defining the Random Forest classifier model\n",
    "rf = RandomForestClassifier(random_state= 42, class_weight='balanced')\n",
    "\n",
    "# Initialize GridSearchCV\n",
    "grid_search_rf = GridSearchCV(estimator= rf, param_grid=param_grid_rf, cv=5, n_jobs= -1 , verbose= 2)\n",
    "\n",
    "# Fit the model\n",
    "grid_search_rf.fit(X_train_as, y_train_as)\n",
    "\n",
    "tuned_rf = grid_search_rf.best_estimator_\n",
    "\n",
    "# Print the best parameters and the corresponding accuracy\n",
    "print(\"Best Parameters:\", grid_search_rf.best_params_)\n",
    "\n",
    "\n",
    "y_pred_tuned_rf = tuned_rf.predict(X_test_as)\n",
    "\n",
    "# Calculate metrics\n",
    "accuracy_tuned_rf = accuracy_score(y_test_as,y_pred_tuned_rf)\n",
    "precision_tuned_rf = precision_score(y_test_as, y_pred_tuned_rf)\n",
    "recall_tuned_rf = recall_score(y_test_as, y_pred_tuned_rf)\n",
    "f1_score_tuned_rf = f1_score(y_test_as,y_pred_tuned_rf)\n",
    "\n",
    "# Print metrics with context\n",
    "print(f\"RandomForest Model using Best Params Evaluation Metrics:\\n\"\n",
    "      f\" - Accuracy: {accuracy_tuned_rf}\\n\"\n",
    "      f\" - Precision Score: {precision_tuned_rf}\\n\"\n",
    "      f\" - Recall Score: {recall_tuned_rf}\\n\"\n",
    "      f\" - F1 Score: {f1_score_tuned_rf}\\n\"\n",
    "      f\" - {classification_report(y_test_as,y_pred_tuned_rf)}\")"
   ]
  },
  {
   "cell_type": "markdown",
   "metadata": {},
   "source": [
    "### Tuning XGBoost Classifier Model using GridSearchCV"
   ]
  },
  {
   "cell_type": "code",
   "execution_count": 139,
   "metadata": {},
   "outputs": [
    {
     "name": "stdout",
     "output_type": "stream",
     "text": [
      "Fitting 5 folds for each of 108 candidates, totalling 540 fits\n"
     ]
    },
    {
     "name": "stdout",
     "output_type": "stream",
     "text": [
      "Best parameters found:  {'colsample_bytree': 0.5, 'learning_rate': 0.2, 'max_depth': 20, 'n_estimators': 300}\n",
      "XGBoost Classifier Model Evaluation Metrics:\n",
      " - Accuracy: 0.6802030456852792\n",
      " - Precision Score: 0.7108433734939759\n",
      " - Recall Score: 0.6020408163265306\n",
      " - F1 Score: 0.6519337016574586\n",
      " -               precision    recall  f1-score   support\n",
      "\n",
      "           0       0.66      0.76      0.70        99\n",
      "           1       0.71      0.60      0.65        98\n",
      "\n",
      "    accuracy                           0.68       197\n",
      "   macro avg       0.68      0.68      0.68       197\n",
      "weighted avg       0.68      0.68      0.68       197\n",
      "\n"
     ]
    }
   ],
   "source": [
    "from xgboost import XGBClassifier\n",
    "\n",
    "# Initialize XGBClassifier\n",
    "xgb = XGBClassifier(random_state=42, eval_metric='logloss')\n",
    "\n",
    "# Define the parameter grid\n",
    "param_grid_xgb = {\n",
    "    'n_estimators': [ 50, 100,200,300],   # Number of boosting rounds\n",
    "    'max_depth': [10,20,30],           # Maximum tree depth\n",
    "    'learning_rate': [0.01, 0.1,0.2],   # Step size shrinkage\n",
    "    'colsample_bytree': [0.5, 0.7, 1.0]\n",
    "}\n",
    "\n",
    "# Initialize GridSearchCV\n",
    "grid_search_xgb = GridSearchCV(estimator=xgb, param_grid=param_grid_xgb, cv=5, n_jobs=-1, verbose=2)\n",
    "\n",
    "# Fit the model\n",
    "grid_search_xgb.fit(X_train_as, y_train_as)\n",
    "\n",
    "# Best parameters and model\n",
    "print(\"Best parameters found: \", grid_search_xgb.best_params_)\n",
    "tuned_xgb = grid_search_xgb.best_estimator_\n",
    "\n",
    "# Predict on test data\n",
    "y_pred_tuned_xgb = tuned_xgb.predict(X_test_as)\n",
    "\n",
    "# Calculate metrics\n",
    "accuracy_tuned_xgb = accuracy_score(y_test_as,y_pred_tuned_xgb)\n",
    "precision_tuned_xgb = precision_score(y_test_as, y_pred_tuned_xgb)\n",
    "recall_tuned_xgb = recall_score(y_test_as, y_pred_tuned_xgb)\n",
    "f1_score_tuned_xgb = f1_score(y_test_as,y_pred_tuned_xgb)\n",
    "\n",
    "# Evaluate the stacked model\n",
    "print(f\"XGBoost Classifier Model Evaluation Metrics:\\n\"\n",
    "      f\" - Accuracy: {accuracy_tuned_xgb}\\n\"\n",
    "      f\" - Precision Score: {precision_tuned_xgb}\\n\"\n",
    "      f\" - Recall Score: {recall_tuned_xgb}\\n\"\n",
    "      f\" - F1 Score: {f1_score_tuned_xgb}\\n\"\n",
    "      f\" - {classification_report(y_test_as,y_pred_tuned_xgb)}\")"
   ]
  },
  {
   "cell_type": "markdown",
   "metadata": {},
   "source": [
    "### Tuning MLPClassifier Model using GridSearchCV"
   ]
  },
  {
   "cell_type": "code",
   "execution_count": 140,
   "metadata": {},
   "outputs": [
    {
     "name": "stdout",
     "output_type": "stream",
     "text": [
      "Fitting 5 folds for each of 144 candidates, totalling 720 fits\n",
      "Best parameters found:  {'activation': 'tanh', 'alpha': 0.0001, 'hidden_layer_sizes': (32, 64), 'learning_rate': 'constant', 'solver': 'adam'}\n",
      "XGBoost Classifier Model Evaluation Metrics:\n",
      " - Accuracy: 0.49238578680203043\n",
      " - Precision Score: 0.49122807017543857\n",
      " - Recall Score: 0.5714285714285714\n",
      " - F1 Score: 0.5283018867924528\n",
      " -               precision    recall  f1-score   support\n",
      "\n",
      "           0       0.49      0.41      0.45        99\n",
      "           1       0.49      0.57      0.53        98\n",
      "\n",
      "    accuracy                           0.49       197\n",
      "   macro avg       0.49      0.49      0.49       197\n",
      "weighted avg       0.49      0.49      0.49       197\n",
      "\n"
     ]
    }
   ],
   "source": [
    "# Initialize XGBClassifier\n",
    "mlp = MLPClassifier(max_iter=1000, random_state=42)\n",
    "\n",
    "# Define the parameter grid\n",
    "param_grid_mlp = {\n",
    "    'hidden_layer_sizes': [(32,), (64,), (64, 128), (32, 64)],\n",
    "    'activation': ['logistic', 'tanh', 'relu'],\n",
    "    'solver': ['sgd', 'adam'],\n",
    "    'alpha': [0.0001, 0.001, 0.01],\n",
    "    'learning_rate': ['constant', 'adaptive']\n",
    "}\n",
    "\n",
    "# Initialize GridSearchCV\n",
    "grid_search_mlp = GridSearchCV(estimator=mlp, param_grid=param_grid_mlp, cv=5, n_jobs=-1, verbose=2)\n",
    "\n",
    "# Fit the model\n",
    "grid_search_mlp.fit(X_train_as, y_train_as)\n",
    "\n",
    "# Best parameters and model\n",
    "print(\"Best parameters found: \", grid_search_mlp.best_params_)\n",
    "tuned_mlp = grid_search_mlp.best_estimator_\n",
    "\n",
    "# Predict on test data\n",
    "y_pred_tuned_mlp = tuned_mlp.predict(X_test_as)\n",
    "\n",
    "# Calculate metrics\n",
    "accuracy_tuned_mlp = accuracy_score(y_test_as,y_pred_tuned_mlp)\n",
    "precision_tuned_mlp = precision_score(y_test_as, y_pred_tuned_mlp)\n",
    "recall_tuned_mlp = recall_score(y_test_as, y_pred_tuned_mlp)\n",
    "f1_score_tuned_mlp = f1_score(y_test_as,y_pred_tuned_mlp)\n",
    "\n",
    "# Evaluate the stacked model\n",
    "print(f\"XGBoost Classifier Model Evaluation Metrics:\\n\"\n",
    "      f\" - Accuracy: {accuracy_tuned_mlp}\\n\"\n",
    "      f\" - Precision Score: {precision_tuned_mlp}\\n\"\n",
    "      f\" - Recall Score: {recall_tuned_mlp}\\n\"\n",
    "      f\" - F1 Score: {f1_score_tuned_mlp}\\n\"\n",
    "      f\" - {classification_report(y_test_as,y_pred_tuned_mlp)}\")"
   ]
  },
  {
   "cell_type": "markdown",
   "metadata": {},
   "source": [
    "## Using Stacking Classifier Model with MLP Classifier to Improve Accuracy"
   ]
  },
  {
   "cell_type": "code",
   "execution_count": 143,
   "metadata": {},
   "outputs": [
    {
     "name": "stdout",
     "output_type": "stream",
     "text": [
      "Stacking Classifier Model Evaluation Metrics:\n",
      " - Accuracy: 0.7614213197969543\n",
      " - Precision Score: 0.7142857142857143\n",
      " - Recall Score: 0.8673469387755102\n",
      " - F1 Score: 0.783410138248848\n",
      " -               precision    recall  f1-score   support\n",
      "\n",
      "           0       0.83      0.66      0.73        99\n",
      "           1       0.71      0.87      0.78        98\n",
      "\n",
      "    accuracy                           0.76       197\n",
      "   macro avg       0.77      0.76      0.76       197\n",
      "weighted avg       0.77      0.76      0.76       197\n",
      "\n"
     ]
    }
   ],
   "source": [
    "from sklearn.ensemble import StackingClassifier\n",
    "\n",
    "# MLPClassifier with additional fully connected layers and regularization\n",
    "mlp_meta = MLPClassifier(\n",
    "    hidden_layer_sizes=(128, 256),  # Adding more layers and nodes\n",
    "    activation='relu',\n",
    "    solver='adam',\n",
    "    alpha=0.0001,  # L2 regularization to reduce overfitting\n",
    "    max_iter=500,  # Increased max_iter for convergence\n",
    "    learning_rate_init= 0.0001,  # Decreased learning rate\n",
    "    random_state=42\n",
    ")\n",
    "\n",
    "# Initialize StackingClassifier with RFC, XGBoost, and an improved MLP as meta-model\n",
    "stacking_clf = StackingClassifier(\n",
    "    estimators=[('rf', tuned_rf), ('xgb', tuned_xgb)],\n",
    "    final_estimator= tuned_mlp\n",
    ")\n",
    "\n",
    "# Fit the StackingClassifier\n",
    "stacking_clf.fit(X_train_as, y_train_as)\n",
    "\n",
    "# Predict on the test data\n",
    "y_pred_clf = stacking_clf.predict(X_test_as)\n",
    "\n",
    "# Calculate metrics\n",
    "accuracy_clf = accuracy_score(y_test_as, y_pred_clf)\n",
    "precision_clf = precision_score(y_test_as, y_pred_clf)\n",
    "recall_clf = recall_score(y_test_as, y_pred_clf)\n",
    "f1_score_clf = f1_score(y_test_as, y_pred_clf)\n",
    "\n",
    "# Evaluate the stacked model\n",
    "print(f\"Stacking Classifier Model Evaluation Metrics:\\n\"\n",
    "      f\" - Accuracy: {accuracy_clf}\\n\"\n",
    "      f\" - Precision Score: {precision_clf}\\n\"\n",
    "      f\" - Recall Score: {recall_clf}\\n\"\n",
    "      f\" - F1 Score: {f1_score_clf}\\n\"\n",
    "      f\" - {classification_report(y_test_as, y_pred_clf)}\")\n"
   ]
  },
  {
   "cell_type": "markdown",
   "metadata": {},
   "source": [
    "## Model Performance Comparison"
   ]
  },
  {
   "cell_type": "markdown",
   "metadata": {},
   "source": [
    "### Defining Function store performance metrices in the dataframe"
   ]
  },
  {
   "cell_type": "code",
   "execution_count": 147,
   "metadata": {},
   "outputs": [],
   "source": [
    "import pandas as pd\n",
    "from sklearn.metrics import accuracy_score, precision_score, recall_score, f1_score, roc_auc_score\n",
    "\n",
    "# Create an empty DataFrame to store metrics\n",
    "metrics_df = pd.DataFrame(columns=['Model', 'Accuracy', 'Precision', 'Recall', 'F1-Score', 'AUC'])\n",
    "\n",
    "# Function to evaluate model performance and append to the DataFrame\n",
    "def evaluate_model(name, model, X_test, y_test, metrics_df):\n",
    "    # Predict the test data\n",
    "    y_pred = model.predict(X_test)\n",
    "    \n",
    "    # Get predicted probabilities for AUC (if available)\n",
    "    try:\n",
    "        y_pred_proba = model.predict_proba(X_test)[:, 1]\n",
    "        auc = roc_auc_score(y_test, y_pred_proba)\n",
    "    except:\n",
    "        auc = None  # For models without `predict_proba()`\n",
    "    \n",
    "    # Calculate metrics\n",
    "    accuracy = accuracy_score(y_test, y_pred)\n",
    "    precision = precision_score(y_test, y_pred)\n",
    "    recall = recall_score(y_test, y_pred)\n",
    "    f1 = f1_score(y_test, y_pred)\n",
    "    \n",
    "    # Append metrics to the DataFrame\n",
    "    new_row = pd.DataFrame({\n",
    "    'Model': [name],\n",
    "    'Accuracy': [accuracy],\n",
    "    'Precision': [precision],\n",
    "    'Recall': [recall],\n",
    "    'F1-Score': [f1] ,\n",
    "    'AUC': [auc] })\n",
    "\n",
    "    metrics_df = pd.concat([metrics_df, new_row], ignore_index=True)\n",
    "    \n",
    "    return metrics_df"
   ]
  },
  {
   "cell_type": "markdown",
   "metadata": {},
   "source": [
    "### Adding Metrices to the dataframe"
   ]
  },
  {
   "cell_type": "code",
   "execution_count": 148,
   "metadata": {},
   "outputs": [
    {
     "data": {
      "text/html": [
       "<div>\n",
       "<style scoped>\n",
       "    .dataframe tbody tr th:only-of-type {\n",
       "        vertical-align: middle;\n",
       "    }\n",
       "\n",
       "    .dataframe tbody tr th {\n",
       "        vertical-align: top;\n",
       "    }\n",
       "\n",
       "    .dataframe thead th {\n",
       "        text-align: right;\n",
       "    }\n",
       "</style>\n",
       "<table border=\"1\" class=\"dataframe\">\n",
       "  <thead>\n",
       "    <tr style=\"text-align: right;\">\n",
       "      <th></th>\n",
       "      <th>Model</th>\n",
       "      <th>Accuracy</th>\n",
       "      <th>Precision</th>\n",
       "      <th>Recall</th>\n",
       "      <th>F1-Score</th>\n",
       "      <th>AUC</th>\n",
       "    </tr>\n",
       "  </thead>\n",
       "  <tbody>\n",
       "    <tr>\n",
       "      <th>0</th>\n",
       "      <td>Random Forest (Baseline Model)</td>\n",
       "      <td>0.554974</td>\n",
       "      <td>0.572917</td>\n",
       "      <td>0.555556</td>\n",
       "      <td>0.564103</td>\n",
       "      <td>0.551713</td>\n",
       "    </tr>\n",
       "    <tr>\n",
       "      <th>1</th>\n",
       "      <td>XGBoost (Baseline Model)</td>\n",
       "      <td>0.513089</td>\n",
       "      <td>0.531250</td>\n",
       "      <td>0.515152</td>\n",
       "      <td>0.523077</td>\n",
       "      <td>0.505051</td>\n",
       "    </tr>\n",
       "    <tr>\n",
       "      <th>2</th>\n",
       "      <td>MLP (Baseline Model)</td>\n",
       "      <td>0.507853</td>\n",
       "      <td>0.514793</td>\n",
       "      <td>0.878788</td>\n",
       "      <td>0.649254</td>\n",
       "      <td>0.555116</td>\n",
       "    </tr>\n",
       "    <tr>\n",
       "      <th>3</th>\n",
       "      <td>Random Forest (After Resampling)</td>\n",
       "      <td>0.685279</td>\n",
       "      <td>0.700000</td>\n",
       "      <td>0.642857</td>\n",
       "      <td>0.670213</td>\n",
       "      <td>0.781128</td>\n",
       "    </tr>\n",
       "    <tr>\n",
       "      <th>4</th>\n",
       "      <td>XGBoost (After Resampling)</td>\n",
       "      <td>0.680203</td>\n",
       "      <td>0.705882</td>\n",
       "      <td>0.612245</td>\n",
       "      <td>0.655738</td>\n",
       "      <td>0.768604</td>\n",
       "    </tr>\n",
       "    <tr>\n",
       "      <th>5</th>\n",
       "      <td>MLP (After Resampling)</td>\n",
       "      <td>0.532995</td>\n",
       "      <td>0.530612</td>\n",
       "      <td>0.530612</td>\n",
       "      <td>0.530612</td>\n",
       "      <td>0.543084</td>\n",
       "    </tr>\n",
       "    <tr>\n",
       "      <th>6</th>\n",
       "      <td>Random Forest (With Hyper Tuning)</td>\n",
       "      <td>0.680203</td>\n",
       "      <td>0.692308</td>\n",
       "      <td>0.642857</td>\n",
       "      <td>0.666667</td>\n",
       "      <td>0.760359</td>\n",
       "    </tr>\n",
       "    <tr>\n",
       "      <th>7</th>\n",
       "      <td>XGBoost (With Hyper Tuning)</td>\n",
       "      <td>0.680203</td>\n",
       "      <td>0.710843</td>\n",
       "      <td>0.602041</td>\n",
       "      <td>0.651934</td>\n",
       "      <td>0.775922</td>\n",
       "    </tr>\n",
       "    <tr>\n",
       "      <th>8</th>\n",
       "      <td>MLP (With Hyper Tuning)</td>\n",
       "      <td>0.492386</td>\n",
       "      <td>0.491228</td>\n",
       "      <td>0.571429</td>\n",
       "      <td>0.528302</td>\n",
       "      <td>0.548444</td>\n",
       "    </tr>\n",
       "    <tr>\n",
       "      <th>9</th>\n",
       "      <td>Stacking Classifier</td>\n",
       "      <td>0.761421</td>\n",
       "      <td>0.714286</td>\n",
       "      <td>0.867347</td>\n",
       "      <td>0.783410</td>\n",
       "      <td>0.792311</td>\n",
       "    </tr>\n",
       "  </tbody>\n",
       "</table>\n",
       "</div>"
      ],
      "text/plain": [
       "                               Model  Accuracy  Precision    Recall  F1-Score  \\\n",
       "0     Random Forest (Baseline Model)  0.554974   0.572917  0.555556  0.564103   \n",
       "1           XGBoost (Baseline Model)  0.513089   0.531250  0.515152  0.523077   \n",
       "2               MLP (Baseline Model)  0.507853   0.514793  0.878788  0.649254   \n",
       "3   Random Forest (After Resampling)  0.685279   0.700000  0.642857  0.670213   \n",
       "4         XGBoost (After Resampling)  0.680203   0.705882  0.612245  0.655738   \n",
       "5             MLP (After Resampling)  0.532995   0.530612  0.530612  0.530612   \n",
       "6  Random Forest (With Hyper Tuning)  0.680203   0.692308  0.642857  0.666667   \n",
       "7        XGBoost (With Hyper Tuning)  0.680203   0.710843  0.602041  0.651934   \n",
       "8            MLP (With Hyper Tuning)  0.492386   0.491228  0.571429  0.528302   \n",
       "9                Stacking Classifier  0.761421   0.714286  0.867347  0.783410   \n",
       "\n",
       "        AUC  \n",
       "0  0.551713  \n",
       "1  0.505051  \n",
       "2  0.555116  \n",
       "3  0.781128  \n",
       "4  0.768604  \n",
       "5  0.543084  \n",
       "6  0.760359  \n",
       "7  0.775922  \n",
       "8  0.548444  \n",
       "9  0.792311  "
      ]
     },
     "execution_count": 148,
     "metadata": {},
     "output_type": "execute_result"
    }
   ],
   "source": [
    "# Baseline Models\n",
    "models_bsl = {\n",
    "    'Random Forest (Baseline Model)': rf_bsl,\n",
    "    'XGBoost (Baseline Model)': xgb_bsl,\n",
    "    'MLP (Baseline Model)': mlp_bsl,\n",
    "}\n",
    "\n",
    "# Models with resampled data\n",
    "models_as = {\n",
    "    'Random Forest (After Resampling)': rf_as,\n",
    "    'XGBoost (After Resampling)': xgb_as,\n",
    "    'MLP (After Resampling)': mlp_as,\n",
    "}\n",
    "\n",
    "# Hyperparameter tuned Models\n",
    "models_tunned = {\n",
    "    'Random Forest (With Hyper Tuning)': tuned_rf,\n",
    "    'XGBoost (With Hyper Tuning)': tuned_xgb,\n",
    "    'MLP (With Hyper Tuning)': tuned_mlp,\n",
    "}\n",
    "\n",
    "# Final Model\n",
    "final_models = {\n",
    "    'Stacking Classifier': stacking_clf,\n",
    "}\n",
    "\n",
    "# Evaluate baseline models and store the results\n",
    "for model_name, model in models_bsl.items():\n",
    "    metrics_df = evaluate_model(model_name, model, X_test_bs, y_test_bs, metrics_df)\n",
    "\n",
    "# Evaluate models after resampling and store the results\n",
    "for model_name, model in models_as.items():\n",
    "    metrics_df = evaluate_model(model_name, model, X_test_as, y_test_as, metrics_df)\n",
    "\n",
    "\n",
    "# Evaluate models with Hyperparameter Tuning and store the results\n",
    "for model_name, model in models_tunned.items():\n",
    "    metrics_df = evaluate_model(model_name, model, X_test_as, y_test_as, metrics_df)\n",
    "\n",
    "\n",
    "# Evaluate Final Mode and store the results\n",
    "for model_name, model in final_models.items():\n",
    "    metrics_df = evaluate_model(model_name, model, X_test_as, y_test_as, metrics_df)\n",
    "\n",
    "# Display the final DataFrame\n",
    "metrics_df"
   ]
  },
  {
   "cell_type": "markdown",
   "metadata": {},
   "source": [
    "## Final Model Performance Visualization"
   ]
  },
  {
   "cell_type": "markdown",
   "metadata": {},
   "source": [
    "### Confusion matrix for Stacking Classifier Model"
   ]
  },
  {
   "cell_type": "code",
   "execution_count": 149,
   "metadata": {},
   "outputs": [
    {
     "data": {
      "image/png": "[encoded data removed]",
      "text/plain": [
       "<Figure size 300x200 with 2 Axes>"
      ]
     },
     "metadata": {},
     "output_type": "display_data"
    }
   ],
   "source": [
    "# Assuming y_true and y_pred are your true labels and model predictions\n",
    "cm = confusion_matrix(y_test_as, y_pred_clf)\n",
    "\n",
    "plt.figure(figsize=(3, 2))\n",
    "sns.heatmap(cm, annot=True, fmt=\"d\", cmap='Blues', \n",
    "            xticklabels=['Not Opened', 'Opened'], \n",
    "            yticklabels=['Not Opened', 'Opened'])\n",
    "plt.ylabel('Actual')\n",
    "plt.xlabel('Predicted')\n",
    "plt.title('Confusion Matrix for Stacking Classifier Model')\n",
    "plt.show()\n"
   ]
  },
  {
   "cell_type": "markdown",
   "metadata": {},
   "source": [
    "###  ROC Curve for Stacking classifier"
   ]
  },
  {
   "cell_type": "code",
   "execution_count": 150,
   "metadata": {},
   "outputs": [
    {
     "data": {
      "image/png": "[encoded data removed]",
      "text/plain": [
       "<Figure size 640x480 with 1 Axes>"
      ]
     },
     "metadata": {},
     "output_type": "display_data"
    }
   ],
   "source": [
    "from sklearn.metrics import roc_curve, auc\n",
    "\n",
    "# For Stacking Classifier:\n",
    "y_prob = stacking_clf.predict_proba(X_test_as)[:, 1]  # Probability of class 1\n",
    "\n",
    "fpr, tpr, thresholds = roc_curve(y_test_as, y_pred_clf)\n",
    "roc_auc = auc(fpr, tpr)\n",
    "\n",
    "plt.figure()\n",
    "plt.plot(fpr, tpr, color='blue',lw= 2, label='ROC curve (area = %0.2f)' % roc_auc)\n",
    "plt.plot([0, 1], [0, 1], lw= 2, color='red', linestyle='--')\n",
    "plt.xlabel('False Positive Rate')\n",
    "plt.ylabel('True Positive Rate')\n",
    "plt.title('Receiver Operating Characteristic (ROC) Curve')\n",
    "plt.legend(loc=\"lower right\")\n",
    "plt.show()"
   ]
  },
  {
   "cell_type": "markdown",
   "metadata": {},
   "source": [
    "## Creating Pkl File for Deployment"
   ]
  },
  {
   "cell_type": "code",
   "execution_count": 151,
   "metadata": {},
   "outputs": [],
   "source": [
    "import pickle\n",
    "\n",
    "# Save the trained model\n",
    "with open('stackking_classifier.pkl', 'wb') as f:\n",
    "    pickle.dump(stacking_clf, f)"
   ]
  },
  {
   "cell_type": "markdown",
   "metadata": {},
   "source": [
    "\n",
    "---\n",
    "\n",
    "#### **Disclaimer**  \n",
    "\n",
    "This Jupyter Notebook is provided for educational and informational purposes only. The analysis, models, and predictions presented herein are based on the dataset and assumptions specified in the project. While every effort has been made to ensure the accuracy and reliability of the content, the author assumes no responsibility or liability for errors, inaccuracies, or omissions.  \n",
    "\n",
    "Users are advised to:  \n",
    "- Use the code and models at their own risk.  \n",
    "- Modify and validate the project to suit their specific use cases or datasets.  \n",
    "- Ensure compliance with applicable laws, regulations, and organizational policies when implementing similar models.  \n",
    "\n",
    "The repository is open for learning and collaboration. If you find any issues or have suggestions, feel free to contribute or raise an issue on the associated GitHub repository.  \n",
    "\n",
    "####  **Author Information:**\n",
    "- **Author:-**  Er.Pradeep Kumar\n",
    "- **LinkedIn:-**  [https://www.linkedin.com/in/pradeep-kumar-1722b6123/](https://www.linkedin.com/in/pradeep-kumar-1722b6123/)\n",
    "\n",
    "--- \n",
    "\n"
   ]
  }
 ],
 "metadata": {
  "kernelspec": {
   "display_name": "base",
   "language": "python",
   "name": "python3"
  },
  "language_info": {
   "codemirror_mode": {
    "name": "ipython",
    "version": 3
   },
   "file_extension": ".py",
   "mimetype": "text/x-python",
   "name": "python",
   "nbconvert_exporter": "python",
   "pygments_lexer": "ipython3",
   "version": "3.12.4"
  }
 },
 "nbformat": 4,
 "nbformat_minor": 2
}
